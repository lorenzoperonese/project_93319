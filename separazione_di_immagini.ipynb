{
 "cells": [
  {
   "cell_type": "code",
   "execution_count": 14,
   "metadata": {
    "id": "wrlTnZCNfnfr"
   },
   "outputs": [],
   "source": [
    "import tensorflow as tf\n",
    "from tensorflow.keras.layers import Input, Conv2D, BatchNormalization, Activation, MaxPooling2D, UpSampling2D, Concatenate, Add, Reshape\n",
    "from tensorflow.keras.optimizers import Adam\n",
    "from tensorflow.keras.callbacks import ReduceLROnPlateau, EarlyStopping\n",
    "from tensorflow.keras.models import Model\n",
    "from tensorflow.keras.datasets import mnist, fashion_mnist\n",
    "\n",
    "import numpy as np\n",
    "from matplotlib import pyplot as plt"
   ]
  },
  {
   "cell_type": "markdown",
   "metadata": {
    "id": "BtO9jMGEaShb"
   },
   "source": [
    "# Separazione di immagini\n",
    "\n",
    "Questo progetto ha l'obiettivo di separare un'immagine, ottenuta come somma di due immagini, nelle sue componenti originali.\n",
    "\n",
    "Le due immagini di origine, img1 e img2, provengono da dataset diversi: MNIST e Fashion-MNIST, rispettivamente.\n",
    "\n",
    "Non è consentita alcuna pre-elaborazione. La rete neurale riceve in input l'immagine combinata (img1 + img2) e restituisce le predizioni (hat_img1 e hat_img2).\n",
    "\n",
    "Le prestazioni vengono valutate utilizzando l'errore quadratico medio (MSE) tra le immagini predette e quelle di riferimento.\n",
    "\n",
    "Entrambi i dataset (MNIST e Fashion-MNIST) sono in scala di grigi. Per semplicità, tutti i campioni vengono adattati alla risoluzione (32,32)."
   ]
  },
  {
   "cell_type": "code",
   "execution_count": 15,
   "metadata": {
    "colab": {
     "base_uri": "https://localhost:8080/"
    },
    "id": "yRYiW2ipukZF",
    "outputId": "0ae14bc1-f750-440b-9c91-af4f22039f29"
   },
   "outputs": [
    {
     "output_type": "stream",
     "name": "stdout",
     "text": [
      "(60000, 28, 28)\n",
      "(60000, 32, 32)\n"
     ]
    }
   ],
   "source": [
    "(mnist_x_train, mnist_y_train), (mnist_x_test, mnist_y_test) = mnist.load_data()\n",
    "print(np.shape(mnist_x_train))\n",
    "(fashion_mnist_x_train, fashion_mnist_y_train), (fashion_mnist_x_test, fashion_mnist_y_test) = fashion_mnist.load_data()\n",
    "#normnalize in and pad\n",
    "mnist_x_train = np.pad(mnist_x_train,((0,0),(2,2),(2,2)))/255.\n",
    "print(np.shape(mnist_x_train))\n",
    "mnist_x_test = np.pad(mnist_x_test,((0,0),(2,2),(2,2)))/255.\n",
    "fashion_mnist_x_train = np.pad(fashion_mnist_x_train,((0,0),(2,2),(2,2)))/255.\n",
    "fashion_mnist_x_test = np.pad(fashion_mnist_x_test,((0,0),(2,2),(2,2)))/255."
   ]
  },
  {
   "cell_type": "code",
   "execution_count": 16,
   "metadata": {
    "colab": {
     "base_uri": "https://localhost:8080/"
    },
    "id": "WBIWB2a-VGqH",
    "outputId": "f29d65d8-30f7-4601-cafa-971c5a3ef86e"
   },
   "outputs": [
    {
     "output_type": "stream",
     "name": "stdout",
     "text": [
      "(60000, 32, 32)\n"
     ]
    }
   ],
   "source": [
    "print(np.shape(mnist_x_train))"
   ]
  },
  {
   "cell_type": "markdown",
   "metadata": {
    "id": "Or5X_DyPc6dT"
   },
   "source": [
    "Qui di seguito un semplcie generatore dei dati."
   ]
  },
  {
   "cell_type": "code",
   "execution_count": 17,
   "metadata": {
    "id": "7Y5Zpv5fw2hd"
   },
   "outputs": [],
   "source": [
    "def datagenerator(x1,x2,batchsize):\n",
    "    n1 = x1.shape[0]\n",
    "    n2 = x2.shape[0]\n",
    "    while True:\n",
    "        num1 = np.random.randint(0, n1, batchsize)\n",
    "        num2 = np.random.randint(0, n2, batchsize)\n",
    "\n",
    "        x_data = (x1[num1] + x2[num2]) / 2.0\n",
    "        y_data = (x1[num1], x2[num2])\n",
    "\n",
    "        yield x_data, y_data"
   ]
  },
  {
   "cell_type": "markdown",
   "metadata": {
    "id": "9JLwLpsrdVH-"
   },
   "source": [
    "Definiamo un generatore con batchsize=1 e visualizziamo qualche dato."
   ]
  },
  {
   "cell_type": "code",
   "execution_count": 18,
   "metadata": {
    "id": "dkv8Qc9-wEnf"
   },
   "outputs": [],
   "source": [
    "onegen = datagenerator(mnist_x_test,fashion_mnist_x_test,1)"
   ]
  },
  {
   "cell_type": "markdown",
   "metadata": {
    "id": "UiVcyHrVeXpI"
   },
   "source": [
    "Let us look at some input-output pairs"
   ]
  },
  {
   "cell_type": "code",
   "execution_count": 19,
   "metadata": {
    "id": "y0BEm2dhGx30"
   },
   "outputs": [],
   "source": [
    "def show_images(x,y1,y2, title=\"\"):\n",
    "    fig, ax = plt.subplots(1,3,figsize=(12,4))\n",
    "    if title:\n",
    "        fig.suptitle(title, fontsize=14, y=1.05)\n",
    "    ax[0].imshow(x,cmap='gray')\n",
    "    ax[0].title.set_text('Input')\n",
    "    ax[0].axis('off')\n",
    "    ax[1].imshow(y1,cmap='gray')\n",
    "    ax[1].title.set_text('mnist')\n",
    "    ax[1].axis('off')\n",
    "    ax[2].imshow(y2,cmap='gray')\n",
    "    ax[2].title.set_text('fashion_mnist')\n",
    "    ax[2].axis('off')\n",
    "    plt.show()"
   ]
  },
  {
   "cell_type": "code",
   "execution_count": 20,
   "metadata": {
    "colab": {
     "base_uri": "https://localhost:8080/",
     "height": 332
    },
    "id": "d1l_Ry2FHQqP",
    "outputId": "8c99a527-0878-4816-eabe-e8e8c21c54a6"
   },
   "outputs": [
    {
     "output_type": "display_data",
     "data": {
      "text/plain": [
       "<Figure size 1200x400 with 3 Axes>"
      ],
      "image/png": "[encoded data removed]"
     },
     "metadata": {}
    }
   ],
   "source": [
    "x,(y1,y2)=next(onegen)\n",
    "show_images(x[0],y1[0],y2[0])"
   ]
  },
  {
   "cell_type": "markdown",
   "metadata": {
    "id": "lO0l50Z9W9c-"
   },
   "source": [
    "# Valutazione delle prestazioni\n",
    "\n",
    "Definiano un generatore di test con batchsize 5000."
   ]
  },
  {
   "cell_type": "code",
   "execution_count": 21,
   "metadata": {
    "id": "4Qrl40WWJrwV"
   },
   "outputs": [],
   "source": [
    "testgen = datagenerator(mnist_x_test,fashion_mnist_x_test,5000)\n",
    "\n",
    "eval_samples_x, (eval_samples_y1, eval_sample2) = next(testgen)"
   ]
  },
  {
   "cell_type": "markdown",
   "metadata": {
    "id": "2ubgEZV6Xkz6"
   },
   "source": [
    "Testiamo un semplice modelli che predice due volte l'immagine presa in input.\n",
    "Voi dovrete rimpiazzare questo modello che la rete che avrete allenato."
   ]
  },
  {
   "cell_type": "code",
   "execution_count": 22,
   "metadata": {
    "id": "NXPbkJjQX1pk"
   },
   "outputs": [],
   "source": [
    "def ide_model(x):\n",
    "   return x,x"
   ]
  },
  {
   "metadata": {
    "id": "n8D-dcmq5jCd"
   },
   "cell_type": "markdown",
   "source": [
    "# La mia rete neurale\n",
    "\n",
    "Questo modello si basa su un'architettura encoder-decoder, tipica delle UNet, con la differenza che qui è presente un encoder condiviso che estrae le feature comuni e due decoder indipendenti creati \"ad hoc\" ciascuno sul proprio dataset.\n",
    "\n",
    "## Struttura\n",
    "\n",
    "- Encoder Condiviso\n",
    "  - Composto da una serie di layer convoluzionali, seguiti da operazioni di MaxPooling2D che riducono progressivamente la dimensione spaziale e facilitano l'estrazione delle feature.\n",
    "\n",
    "- Decoder MNIST\n",
    "  - Architettura semplice e lineare.\n",
    "  - Utilizza layer convoluzionali seguiti da operazioni di UpSampling2D e concatenazione delle skip connection, garantendo così la preservazione dei dettagli spaziali e prevenendo l'output completamente nero.\n",
    "\n",
    "- Decoder Fashion-MNIST\n",
    "  - Design più articolato che, oltre alla struttura del decoder MNIST, integra blocchi residuali per gestire pattern più complessi, presenti in questo dataset.\n",
    "  - Viene attribuito un peso maggiore (1.2) nella funzione di loss per migliorare le performance sul dataset Fashion-MNIST.\n",
    "\n",
    "## Evoluzione della Rete\n",
    "\n",
    "Il modello ha subito diverse iterazioni chiave:\n",
    "\n",
    "### Prima Versione (mse $ \\approx $ 0.005)\n",
    "- UNet con architettura base con un encoder e due decoder simmetrici.\n",
    "- Performance limitate su Fashion-MNIST.\n",
    "\n",
    "### Seconda Versione (mse $ \\approx $ 0.001)\n",
    "- Introduzione di due decoder distinti:\n",
    "  - Decoder MNIST: architettura lineare ottimizzata.\n",
    "  - Decoder Fashion-MNIST: design più complesso con blocchi residuali.\n",
    "\n",
    "### Terza Versione (mse $ \\approx $ 0.0008)\n",
    "- Introduzione del learning rate dinamico tramite ReduceLROnPlateau.\n",
    "- Early stopping per prevenire l'overfitting.\n",
    "- Utilizzo di loss weights differenziate, migliorando ulteriormente Fashion-MNIST.\n",
    "\n",
    "### Versione Attuale, (mse = 0.00039955846)\n",
    "- Ottimizzazione del learning rate iniziale.\n",
    "- Regolazione accurata del factor e del patience del callback ReduceLROnPlateau.\n",
    "- Fine tuning del numero di filtri nei vari layer per determinare la struttura finale.\n",
    "\n",
    "# Training\n",
    "Il training è avvenuto sulla piattaforma Google Colab e è durato circa 3 ore con il runtime L4. Nei test precedenti non era successo, ma in questa esecuzione all'epoca 67 è scattato l'early stopping che non ha permesso di concludere le 100 epoche preimpostate; nonostante questo l'accuratezza finale è risultata abbastanza simile a quella delle esecuzioni precedenti."
   ]
  },
  {
   "cell_type": "code",
   "source": [
    "def create_conv_block(x, filters, kernel_size):\n",
    "    x = Conv2D(filters, kernel_size, padding='same')(x)\n",
    "    x = BatchNormalization()(x)\n",
    "    return Activation('relu')(x)\n",
    "\n",
    "def create_residual_block(x, filters):\n",
    "    residual = x\n",
    "    x = create_conv_block(x, filters, (3, 3))\n",
    "    x = Conv2D(filters, (3, 3), padding='same')(x)\n",
    "    x = BatchNormalization()(x)\n",
    "    x = Add()([x, residual])\n",
    "    return Activation('relu')(x)\n",
    "\n",
    "def create_encoder(input_layer):\n",
    "    x = Reshape((32, 32, 1))(input_layer)\n",
    "    x = create_conv_block(x, filters=64, kernel_size=(5, 5))\n",
    "    skip1 = x\n",
    "    x = MaxPooling2D((2, 2))(x)\n",
    "    x = create_conv_block(x, filters=128, kernel_size=(3, 3))\n",
    "    skip2 = x\n",
    "    x = MaxPooling2D((2, 2))(x)\n",
    "    x = create_conv_block(x, filters=256, kernel_size=(3, 3))\n",
    "    x = create_conv_block(x, filters=256, kernel_size=(3, 3))\n",
    "    return x, skip1, skip2\n",
    "\n",
    "def create_mnist_decoder(x, skip1, skip2):\n",
    "    x = create_conv_block(x, filters=128, kernel_size=(3, 3))\n",
    "    x = UpSampling2D((2, 2))(x)\n",
    "    x = Concatenate()([x, skip2])\n",
    "    x = create_conv_block(x, filters=128, kernel_size=(3, 3))\n",
    "    x = create_conv_block(x, filters=64, kernel_size=(3, 3))\n",
    "    x = UpSampling2D((2, 2))(x)\n",
    "    x = Concatenate()([x, skip1])\n",
    "    x = create_conv_block(x, filters=64, kernel_size=(3, 3))\n",
    "    x = Conv2D(1, (3, 3), activation='sigmoid', padding='same')(x)\n",
    "    return Reshape((32, 32))(x)\n",
    "\n",
    "def create_fashion_mnist_decoder(x, skip1, skip2):\n",
    "    x = create_conv_block(x, filters=192, kernel_size=(3, 3))\n",
    "    x = create_residual_block(x, filters=192)\n",
    "    x = UpSampling2D((2, 2))(x)\n",
    "    x = Concatenate()([x, skip2])\n",
    "    x = create_conv_block(x, filters=128, kernel_size=(3, 3))\n",
    "    x = create_residual_block(x, filters=128)\n",
    "    x = UpSampling2D((2, 2))(x)\n",
    "    x = Concatenate()([x, skip1])\n",
    "    x = create_conv_block(x, filters=64, kernel_size=(3, 3))\n",
    "    x = Conv2D(1, (5, 5), activation='sigmoid', padding='same')(x)\n",
    "    return Reshape((32, 32))(x)\n",
    "\n",
    "def create_my_unet():\n",
    "    input_img = Input(shape=(32, 32))\n",
    "    x, skip1, skip2 = create_encoder(input_img)\n",
    "    output1 = create_mnist_decoder(x, skip1, skip2)\n",
    "    output2 = create_fashion_mnist_decoder(x, skip1, skip2)\n",
    "    model = Model(inputs=input_img, outputs=[output1, output2])\n",
    "    optimizer = Adam(learning_rate=0.001)\n",
    "    model.compile(\n",
    "        optimizer=optimizer,\n",
    "        loss=['mse', 'mse'],\n",
    "        loss_weights=[1.0, 1.2]\n",
    "    )\n",
    "    return model\n",
    "\n",
    "traingen = datagenerator(mnist_x_train, fashion_mnist_x_train, 32)\n",
    "callbacks = [\n",
    "    ReduceLROnPlateau(\n",
    "        monitor='val_loss',\n",
    "        factor=0.5,\n",
    "        patience=5,\n",
    "        min_lr=1e-7,\n",
    "        verbose=1\n",
    "    ),\n",
    "    EarlyStopping(\n",
    "        monitor='val_loss',\n",
    "        patience=10,\n",
    "        restore_best_weights=True,\n",
    "        verbose=1\n",
    "    )\n",
    "]\n",
    "\n",
    "model = create_my_unet()\n",
    "model.summary()\n",
    "history = model.fit(\n",
    "    traingen,\n",
    "    steps_per_epoch=10000,\n",
    "    epochs=100,\n",
    "    validation_data=testgen,\n",
    "    validation_steps=50,\n",
    "    callbacks=callbacks,\n",
    "    verbose=1\n",
    ")"
   ],
   "metadata": {
    "colab": {
     "base_uri": "https://localhost:8080/",
     "height": 1000
    },
    "id": "2B7gzEudRAaQ",
    "outputId": "044a8110-b89d-4ecc-91b4-564a8ffc7163"
   },
   "execution_count": 23,
   "outputs": [
    {
     "output_type": "display_data",
     "data": {
      "text/plain": [
       "\u001B[1mModel: \"functional_1\"\u001B[0m\n"
      ],
      "text/html": [
       "<pre style=\"white-space:pre;overflow-x:auto;line-height:normal;font-family:Menlo,'DejaVu Sans Mono',consolas,'Courier New',monospace\"><span style=\"font-weight: bold\">Model: \"functional_1\"</span>\n",
       "</pre>\n"
      ]
     },
     "metadata": {}
    },
    {
     "output_type": "display_data",
     "data": {
      "text/plain": [
       "┏━━━━━━━━━━━━━━━━━━━━━━━━━━━┳━━━━━━━━━━━━━━━━━━━━━━━━┳━━━━━━━━━━━━━━━━┳━━━━━━━━━━━━━━━━━━━━━━━━┓\n",
       "┃\u001B[1m \u001B[0m\u001B[1mLayer (type)             \u001B[0m\u001B[1m \u001B[0m┃\u001B[1m \u001B[0m\u001B[1mOutput Shape          \u001B[0m\u001B[1m \u001B[0m┃\u001B[1m \u001B[0m\u001B[1m       Param #\u001B[0m\u001B[1m \u001B[0m┃\u001B[1m \u001B[0m\u001B[1mConnected to          \u001B[0m\u001B[1m \u001B[0m┃\n",
       "┡━━━━━━━━━━━━━━━━━━━━━━━━━━━╇━━━━━━━━━━━━━━━━━━━━━━━━╇━━━━━━━━━━━━━━━━╇━━━━━━━━━━━━━━━━━━━━━━━━┩\n",
       "│ input_layer_1             │ (\u001B[38;5;45mNone\u001B[0m, \u001B[38;5;34m32\u001B[0m, \u001B[38;5;34m32\u001B[0m)         │              \u001B[38;5;34m0\u001B[0m │ -                      │\n",
       "│ (\u001B[38;5;33mInputLayer\u001B[0m)              │                        │                │                        │\n",
       "├───────────────────────────┼────────────────────────┼────────────────┼────────────────────────┤\n",
       "│ reshape_3 (\u001B[38;5;33mReshape\u001B[0m)       │ (\u001B[38;5;45mNone\u001B[0m, \u001B[38;5;34m32\u001B[0m, \u001B[38;5;34m32\u001B[0m, \u001B[38;5;34m1\u001B[0m)      │              \u001B[38;5;34m0\u001B[0m │ input_layer_1[\u001B[38;5;34m0\u001B[0m][\u001B[38;5;34m0\u001B[0m]    │\n",
       "├───────────────────────────┼────────────────────────┼────────────────┼────────────────────────┤\n",
       "│ conv2d_17 (\u001B[38;5;33mConv2D\u001B[0m)        │ (\u001B[38;5;45mNone\u001B[0m, \u001B[38;5;34m32\u001B[0m, \u001B[38;5;34m32\u001B[0m, \u001B[38;5;34m64\u001B[0m)     │          \u001B[38;5;34m1,664\u001B[0m │ reshape_3[\u001B[38;5;34m0\u001B[0m][\u001B[38;5;34m0\u001B[0m]        │\n",
       "├───────────────────────────┼────────────────────────┼────────────────┼────────────────────────┤\n",
       "│ batch_normalization_15    │ (\u001B[38;5;45mNone\u001B[0m, \u001B[38;5;34m32\u001B[0m, \u001B[38;5;34m32\u001B[0m, \u001B[38;5;34m64\u001B[0m)     │            \u001B[38;5;34m256\u001B[0m │ conv2d_17[\u001B[38;5;34m0\u001B[0m][\u001B[38;5;34m0\u001B[0m]        │\n",
       "│ (\u001B[38;5;33mBatchNormalization\u001B[0m)      │                        │                │                        │\n",
       "├───────────────────────────┼────────────────────────┼────────────────┼────────────────────────┤\n",
       "│ activation_15             │ (\u001B[38;5;45mNone\u001B[0m, \u001B[38;5;34m32\u001B[0m, \u001B[38;5;34m32\u001B[0m, \u001B[38;5;34m64\u001B[0m)     │              \u001B[38;5;34m0\u001B[0m │ batch_normalization_1… │\n",
       "│ (\u001B[38;5;33mActivation\u001B[0m)              │                        │                │                        │\n",
       "├───────────────────────────┼────────────────────────┼────────────────┼────────────────────────┤\n",
       "│ max_pooling2d_2           │ (\u001B[38;5;45mNone\u001B[0m, \u001B[38;5;34m16\u001B[0m, \u001B[38;5;34m16\u001B[0m, \u001B[38;5;34m64\u001B[0m)     │              \u001B[38;5;34m0\u001B[0m │ activation_15[\u001B[38;5;34m0\u001B[0m][\u001B[38;5;34m0\u001B[0m]    │\n",
       "│ (\u001B[38;5;33mMaxPooling2D\u001B[0m)            │                        │                │                        │\n",
       "├───────────────────────────┼────────────────────────┼────────────────┼────────────────────────┤\n",
       "│ conv2d_18 (\u001B[38;5;33mConv2D\u001B[0m)        │ (\u001B[38;5;45mNone\u001B[0m, \u001B[38;5;34m16\u001B[0m, \u001B[38;5;34m16\u001B[0m, \u001B[38;5;34m128\u001B[0m)    │         \u001B[38;5;34m73,856\u001B[0m │ max_pooling2d_2[\u001B[38;5;34m0\u001B[0m][\u001B[38;5;34m0\u001B[0m]  │\n",
       "├───────────────────────────┼────────────────────────┼────────────────┼────────────────────────┤\n",
       "│ batch_normalization_16    │ (\u001B[38;5;45mNone\u001B[0m, \u001B[38;5;34m16\u001B[0m, \u001B[38;5;34m16\u001B[0m, \u001B[38;5;34m128\u001B[0m)    │            \u001B[38;5;34m512\u001B[0m │ conv2d_18[\u001B[38;5;34m0\u001B[0m][\u001B[38;5;34m0\u001B[0m]        │\n",
       "│ (\u001B[38;5;33mBatchNormalization\u001B[0m)      │                        │                │                        │\n",
       "├───────────────────────────┼────────────────────────┼────────────────┼────────────────────────┤\n",
       "│ activation_16             │ (\u001B[38;5;45mNone\u001B[0m, \u001B[38;5;34m16\u001B[0m, \u001B[38;5;34m16\u001B[0m, \u001B[38;5;34m128\u001B[0m)    │              \u001B[38;5;34m0\u001B[0m │ batch_normalization_1… │\n",
       "│ (\u001B[38;5;33mActivation\u001B[0m)              │                        │                │                        │\n",
       "├───────────────────────────┼────────────────────────┼────────────────┼────────────────────────┤\n",
       "│ max_pooling2d_3           │ (\u001B[38;5;45mNone\u001B[0m, \u001B[38;5;34m8\u001B[0m, \u001B[38;5;34m8\u001B[0m, \u001B[38;5;34m128\u001B[0m)      │              \u001B[38;5;34m0\u001B[0m │ activation_16[\u001B[38;5;34m0\u001B[0m][\u001B[38;5;34m0\u001B[0m]    │\n",
       "│ (\u001B[38;5;33mMaxPooling2D\u001B[0m)            │                        │                │                        │\n",
       "├───────────────────────────┼────────────────────────┼────────────────┼────────────────────────┤\n",
       "│ conv2d_19 (\u001B[38;5;33mConv2D\u001B[0m)        │ (\u001B[38;5;45mNone\u001B[0m, \u001B[38;5;34m8\u001B[0m, \u001B[38;5;34m8\u001B[0m, \u001B[38;5;34m256\u001B[0m)      │        \u001B[38;5;34m295,168\u001B[0m │ max_pooling2d_3[\u001B[38;5;34m0\u001B[0m][\u001B[38;5;34m0\u001B[0m]  │\n",
       "├───────────────────────────┼────────────────────────┼────────────────┼────────────────────────┤\n",
       "│ batch_normalization_17    │ (\u001B[38;5;45mNone\u001B[0m, \u001B[38;5;34m8\u001B[0m, \u001B[38;5;34m8\u001B[0m, \u001B[38;5;34m256\u001B[0m)      │          \u001B[38;5;34m1,024\u001B[0m │ conv2d_19[\u001B[38;5;34m0\u001B[0m][\u001B[38;5;34m0\u001B[0m]        │\n",
       "│ (\u001B[38;5;33mBatchNormalization\u001B[0m)      │                        │                │                        │\n",
       "├───────────────────────────┼────────────────────────┼────────────────┼────────────────────────┤\n",
       "│ activation_17             │ (\u001B[38;5;45mNone\u001B[0m, \u001B[38;5;34m8\u001B[0m, \u001B[38;5;34m8\u001B[0m, \u001B[38;5;34m256\u001B[0m)      │              \u001B[38;5;34m0\u001B[0m │ batch_normalization_1… │\n",
       "│ (\u001B[38;5;33mActivation\u001B[0m)              │                        │                │                        │\n",
       "├───────────────────────────┼────────────────────────┼────────────────┼────────────────────────┤\n",
       "│ conv2d_20 (\u001B[38;5;33mConv2D\u001B[0m)        │ (\u001B[38;5;45mNone\u001B[0m, \u001B[38;5;34m8\u001B[0m, \u001B[38;5;34m8\u001B[0m, \u001B[38;5;34m256\u001B[0m)      │        \u001B[38;5;34m590,080\u001B[0m │ activation_17[\u001B[38;5;34m0\u001B[0m][\u001B[38;5;34m0\u001B[0m]    │\n",
       "├───────────────────────────┼────────────────────────┼────────────────┼────────────────────────┤\n",
       "│ batch_normalization_18    │ (\u001B[38;5;45mNone\u001B[0m, \u001B[38;5;34m8\u001B[0m, \u001B[38;5;34m8\u001B[0m, \u001B[38;5;34m256\u001B[0m)      │          \u001B[38;5;34m1,024\u001B[0m │ conv2d_20[\u001B[38;5;34m0\u001B[0m][\u001B[38;5;34m0\u001B[0m]        │\n",
       "│ (\u001B[38;5;33mBatchNormalization\u001B[0m)      │                        │                │                        │\n",
       "├───────────────────────────┼────────────────────────┼────────────────┼────────────────────────┤\n",
       "│ activation_18             │ (\u001B[38;5;45mNone\u001B[0m, \u001B[38;5;34m8\u001B[0m, \u001B[38;5;34m8\u001B[0m, \u001B[38;5;34m256\u001B[0m)      │              \u001B[38;5;34m0\u001B[0m │ batch_normalization_1… │\n",
       "│ (\u001B[38;5;33mActivation\u001B[0m)              │                        │                │                        │\n",
       "├───────────────────────────┼────────────────────────┼────────────────┼────────────────────────┤\n",
       "│ conv2d_26 (\u001B[38;5;33mConv2D\u001B[0m)        │ (\u001B[38;5;45mNone\u001B[0m, \u001B[38;5;34m8\u001B[0m, \u001B[38;5;34m8\u001B[0m, \u001B[38;5;34m192\u001B[0m)      │        \u001B[38;5;34m442,560\u001B[0m │ activation_18[\u001B[38;5;34m0\u001B[0m][\u001B[38;5;34m0\u001B[0m]    │\n",
       "├───────────────────────────┼────────────────────────┼────────────────┼────────────────────────┤\n",
       "│ batch_normalization_23    │ (\u001B[38;5;45mNone\u001B[0m, \u001B[38;5;34m8\u001B[0m, \u001B[38;5;34m8\u001B[0m, \u001B[38;5;34m192\u001B[0m)      │            \u001B[38;5;34m768\u001B[0m │ conv2d_26[\u001B[38;5;34m0\u001B[0m][\u001B[38;5;34m0\u001B[0m]        │\n",
       "│ (\u001B[38;5;33mBatchNormalization\u001B[0m)      │                        │                │                        │\n",
       "├───────────────────────────┼────────────────────────┼────────────────┼────────────────────────┤\n",
       "│ activation_23             │ (\u001B[38;5;45mNone\u001B[0m, \u001B[38;5;34m8\u001B[0m, \u001B[38;5;34m8\u001B[0m, \u001B[38;5;34m192\u001B[0m)      │              \u001B[38;5;34m0\u001B[0m │ batch_normalization_2… │\n",
       "│ (\u001B[38;5;33mActivation\u001B[0m)              │                        │                │                        │\n",
       "├───────────────────────────┼────────────────────────┼────────────────┼────────────────────────┤\n",
       "│ conv2d_27 (\u001B[38;5;33mConv2D\u001B[0m)        │ (\u001B[38;5;45mNone\u001B[0m, \u001B[38;5;34m8\u001B[0m, \u001B[38;5;34m8\u001B[0m, \u001B[38;5;34m192\u001B[0m)      │        \u001B[38;5;34m331,968\u001B[0m │ activation_23[\u001B[38;5;34m0\u001B[0m][\u001B[38;5;34m0\u001B[0m]    │\n",
       "├───────────────────────────┼────────────────────────┼────────────────┼────────────────────────┤\n",
       "│ batch_normalization_24    │ (\u001B[38;5;45mNone\u001B[0m, \u001B[38;5;34m8\u001B[0m, \u001B[38;5;34m8\u001B[0m, \u001B[38;5;34m192\u001B[0m)      │            \u001B[38;5;34m768\u001B[0m │ conv2d_27[\u001B[38;5;34m0\u001B[0m][\u001B[38;5;34m0\u001B[0m]        │\n",
       "│ (\u001B[38;5;33mBatchNormalization\u001B[0m)      │                        │                │                        │\n",
       "├───────────────────────────┼────────────────────────┼────────────────┼────────────────────────┤\n",
       "│ activation_24             │ (\u001B[38;5;45mNone\u001B[0m, \u001B[38;5;34m8\u001B[0m, \u001B[38;5;34m8\u001B[0m, \u001B[38;5;34m192\u001B[0m)      │              \u001B[38;5;34m0\u001B[0m │ batch_normalization_2… │\n",
       "│ (\u001B[38;5;33mActivation\u001B[0m)              │                        │                │                        │\n",
       "├───────────────────────────┼────────────────────────┼────────────────┼────────────────────────┤\n",
       "│ conv2d_28 (\u001B[38;5;33mConv2D\u001B[0m)        │ (\u001B[38;5;45mNone\u001B[0m, \u001B[38;5;34m8\u001B[0m, \u001B[38;5;34m8\u001B[0m, \u001B[38;5;34m192\u001B[0m)      │        \u001B[38;5;34m331,968\u001B[0m │ activation_24[\u001B[38;5;34m0\u001B[0m][\u001B[38;5;34m0\u001B[0m]    │\n",
       "├───────────────────────────┼────────────────────────┼────────────────┼────────────────────────┤\n",
       "│ batch_normalization_25    │ (\u001B[38;5;45mNone\u001B[0m, \u001B[38;5;34m8\u001B[0m, \u001B[38;5;34m8\u001B[0m, \u001B[38;5;34m192\u001B[0m)      │            \u001B[38;5;34m768\u001B[0m │ conv2d_28[\u001B[38;5;34m0\u001B[0m][\u001B[38;5;34m0\u001B[0m]        │\n",
       "│ (\u001B[38;5;33mBatchNormalization\u001B[0m)      │                        │                │                        │\n",
       "├───────────────────────────┼────────────────────────┼────────────────┼────────────────────────┤\n",
       "│ add_2 (\u001B[38;5;33mAdd\u001B[0m)               │ (\u001B[38;5;45mNone\u001B[0m, \u001B[38;5;34m8\u001B[0m, \u001B[38;5;34m8\u001B[0m, \u001B[38;5;34m192\u001B[0m)      │              \u001B[38;5;34m0\u001B[0m │ batch_normalization_2… │\n",
       "│                           │                        │                │ activation_23[\u001B[38;5;34m0\u001B[0m][\u001B[38;5;34m0\u001B[0m]    │\n",
       "├───────────────────────────┼────────────────────────┼────────────────┼────────────────────────┤\n",
       "│ activation_25             │ (\u001B[38;5;45mNone\u001B[0m, \u001B[38;5;34m8\u001B[0m, \u001B[38;5;34m8\u001B[0m, \u001B[38;5;34m192\u001B[0m)      │              \u001B[38;5;34m0\u001B[0m │ add_2[\u001B[38;5;34m0\u001B[0m][\u001B[38;5;34m0\u001B[0m]            │\n",
       "│ (\u001B[38;5;33mActivation\u001B[0m)              │                        │                │                        │\n",
       "├───────────────────────────┼────────────────────────┼────────────────┼────────────────────────┤\n",
       "│ up_sampling2d_6           │ (\u001B[38;5;45mNone\u001B[0m, \u001B[38;5;34m16\u001B[0m, \u001B[38;5;34m16\u001B[0m, \u001B[38;5;34m192\u001B[0m)    │              \u001B[38;5;34m0\u001B[0m │ activation_25[\u001B[38;5;34m0\u001B[0m][\u001B[38;5;34m0\u001B[0m]    │\n",
       "│ (\u001B[38;5;33mUpSampling2D\u001B[0m)            │                        │                │                        │\n",
       "├───────────────────────────┼────────────────────────┼────────────────┼────────────────────────┤\n",
       "│ conv2d_21 (\u001B[38;5;33mConv2D\u001B[0m)        │ (\u001B[38;5;45mNone\u001B[0m, \u001B[38;5;34m8\u001B[0m, \u001B[38;5;34m8\u001B[0m, \u001B[38;5;34m128\u001B[0m)      │        \u001B[38;5;34m295,040\u001B[0m │ activation_18[\u001B[38;5;34m0\u001B[0m][\u001B[38;5;34m0\u001B[0m]    │\n",
       "├───────────────────────────┼────────────────────────┼────────────────┼────────────────────────┤\n",
       "│ concatenate_6             │ (\u001B[38;5;45mNone\u001B[0m, \u001B[38;5;34m16\u001B[0m, \u001B[38;5;34m16\u001B[0m, \u001B[38;5;34m320\u001B[0m)    │              \u001B[38;5;34m0\u001B[0m │ up_sampling2d_6[\u001B[38;5;34m0\u001B[0m][\u001B[38;5;34m0\u001B[0m], │\n",
       "│ (\u001B[38;5;33mConcatenate\u001B[0m)             │                        │                │ activation_16[\u001B[38;5;34m0\u001B[0m][\u001B[38;5;34m0\u001B[0m]    │\n",
       "├───────────────────────────┼────────────────────────┼────────────────┼────────────────────────┤\n",
       "│ batch_normalization_19    │ (\u001B[38;5;45mNone\u001B[0m, \u001B[38;5;34m8\u001B[0m, \u001B[38;5;34m8\u001B[0m, \u001B[38;5;34m128\u001B[0m)      │            \u001B[38;5;34m512\u001B[0m │ conv2d_21[\u001B[38;5;34m0\u001B[0m][\u001B[38;5;34m0\u001B[0m]        │\n",
       "│ (\u001B[38;5;33mBatchNormalization\u001B[0m)      │                        │                │                        │\n",
       "├───────────────────────────┼────────────────────────┼────────────────┼────────────────────────┤\n",
       "│ conv2d_29 (\u001B[38;5;33mConv2D\u001B[0m)        │ (\u001B[38;5;45mNone\u001B[0m, \u001B[38;5;34m16\u001B[0m, \u001B[38;5;34m16\u001B[0m, \u001B[38;5;34m128\u001B[0m)    │        \u001B[38;5;34m368,768\u001B[0m │ concatenate_6[\u001B[38;5;34m0\u001B[0m][\u001B[38;5;34m0\u001B[0m]    │\n",
       "├───────────────────────────┼────────────────────────┼────────────────┼────────────────────────┤\n",
       "│ activation_19             │ (\u001B[38;5;45mNone\u001B[0m, \u001B[38;5;34m8\u001B[0m, \u001B[38;5;34m8\u001B[0m, \u001B[38;5;34m128\u001B[0m)      │              \u001B[38;5;34m0\u001B[0m │ batch_normalization_1… │\n",
       "│ (\u001B[38;5;33mActivation\u001B[0m)              │                        │                │                        │\n",
       "├───────────────────────────┼────────────────────────┼────────────────┼────────────────────────┤\n",
       "│ batch_normalization_26    │ (\u001B[38;5;45mNone\u001B[0m, \u001B[38;5;34m16\u001B[0m, \u001B[38;5;34m16\u001B[0m, \u001B[38;5;34m128\u001B[0m)    │            \u001B[38;5;34m512\u001B[0m │ conv2d_29[\u001B[38;5;34m0\u001B[0m][\u001B[38;5;34m0\u001B[0m]        │\n",
       "│ (\u001B[38;5;33mBatchNormalization\u001B[0m)      │                        │                │                        │\n",
       "├───────────────────────────┼────────────────────────┼────────────────┼────────────────────────┤\n",
       "│ up_sampling2d_4           │ (\u001B[38;5;45mNone\u001B[0m, \u001B[38;5;34m16\u001B[0m, \u001B[38;5;34m16\u001B[0m, \u001B[38;5;34m128\u001B[0m)    │              \u001B[38;5;34m0\u001B[0m │ activation_19[\u001B[38;5;34m0\u001B[0m][\u001B[38;5;34m0\u001B[0m]    │\n",
       "│ (\u001B[38;5;33mUpSampling2D\u001B[0m)            │                        │                │                        │\n",
       "├───────────────────────────┼────────────────────────┼────────────────┼────────────────────────┤\n",
       "│ activation_26             │ (\u001B[38;5;45mNone\u001B[0m, \u001B[38;5;34m16\u001B[0m, \u001B[38;5;34m16\u001B[0m, \u001B[38;5;34m128\u001B[0m)    │              \u001B[38;5;34m0\u001B[0m │ batch_normalization_2… │\n",
       "│ (\u001B[38;5;33mActivation\u001B[0m)              │                        │                │                        │\n",
       "├───────────────────────────┼────────────────────────┼────────────────┼────────────────────────┤\n",
       "│ concatenate_4             │ (\u001B[38;5;45mNone\u001B[0m, \u001B[38;5;34m16\u001B[0m, \u001B[38;5;34m16\u001B[0m, \u001B[38;5;34m256\u001B[0m)    │              \u001B[38;5;34m0\u001B[0m │ up_sampling2d_4[\u001B[38;5;34m0\u001B[0m][\u001B[38;5;34m0\u001B[0m], │\n",
       "│ (\u001B[38;5;33mConcatenate\u001B[0m)             │                        │                │ activation_16[\u001B[38;5;34m0\u001B[0m][\u001B[38;5;34m0\u001B[0m]    │\n",
       "├───────────────────────────┼────────────────────────┼────────────────┼────────────────────────┤\n",
       "│ conv2d_30 (\u001B[38;5;33mConv2D\u001B[0m)        │ (\u001B[38;5;45mNone\u001B[0m, \u001B[38;5;34m16\u001B[0m, \u001B[38;5;34m16\u001B[0m, \u001B[38;5;34m128\u001B[0m)    │        \u001B[38;5;34m147,584\u001B[0m │ activation_26[\u001B[38;5;34m0\u001B[0m][\u001B[38;5;34m0\u001B[0m]    │\n",
       "├───────────────────────────┼────────────────────────┼────────────────┼────────────────────────┤\n",
       "│ conv2d_22 (\u001B[38;5;33mConv2D\u001B[0m)        │ (\u001B[38;5;45mNone\u001B[0m, \u001B[38;5;34m16\u001B[0m, \u001B[38;5;34m16\u001B[0m, \u001B[38;5;34m128\u001B[0m)    │        \u001B[38;5;34m295,040\u001B[0m │ concatenate_4[\u001B[38;5;34m0\u001B[0m][\u001B[38;5;34m0\u001B[0m]    │\n",
       "├───────────────────────────┼────────────────────────┼────────────────┼────────────────────────┤\n",
       "│ batch_normalization_27    │ (\u001B[38;5;45mNone\u001B[0m, \u001B[38;5;34m16\u001B[0m, \u001B[38;5;34m16\u001B[0m, \u001B[38;5;34m128\u001B[0m)    │            \u001B[38;5;34m512\u001B[0m │ conv2d_30[\u001B[38;5;34m0\u001B[0m][\u001B[38;5;34m0\u001B[0m]        │\n",
       "│ (\u001B[38;5;33mBatchNormalization\u001B[0m)      │                        │                │                        │\n",
       "├───────────────────────────┼────────────────────────┼────────────────┼────────────────────────┤\n",
       "│ batch_normalization_20    │ (\u001B[38;5;45mNone\u001B[0m, \u001B[38;5;34m16\u001B[0m, \u001B[38;5;34m16\u001B[0m, \u001B[38;5;34m128\u001B[0m)    │            \u001B[38;5;34m512\u001B[0m │ conv2d_22[\u001B[38;5;34m0\u001B[0m][\u001B[38;5;34m0\u001B[0m]        │\n",
       "│ (\u001B[38;5;33mBatchNormalization\u001B[0m)      │                        │                │                        │\n",
       "├───────────────────────────┼────────────────────────┼────────────────┼────────────────────────┤\n",
       "│ activation_27             │ (\u001B[38;5;45mNone\u001B[0m, \u001B[38;5;34m16\u001B[0m, \u001B[38;5;34m16\u001B[0m, \u001B[38;5;34m128\u001B[0m)    │              \u001B[38;5;34m0\u001B[0m │ batch_normalization_2… │\n",
       "│ (\u001B[38;5;33mActivation\u001B[0m)              │                        │                │                        │\n",
       "├───────────────────────────┼────────────────────────┼────────────────┼────────────────────────┤\n",
       "│ activation_20             │ (\u001B[38;5;45mNone\u001B[0m, \u001B[38;5;34m16\u001B[0m, \u001B[38;5;34m16\u001B[0m, \u001B[38;5;34m128\u001B[0m)    │              \u001B[38;5;34m0\u001B[0m │ batch_normalization_2… │\n",
       "│ (\u001B[38;5;33mActivation\u001B[0m)              │                        │                │                        │\n",
       "├───────────────────────────┼────────────────────────┼────────────────┼────────────────────────┤\n",
       "│ conv2d_31 (\u001B[38;5;33mConv2D\u001B[0m)        │ (\u001B[38;5;45mNone\u001B[0m, \u001B[38;5;34m16\u001B[0m, \u001B[38;5;34m16\u001B[0m, \u001B[38;5;34m128\u001B[0m)    │        \u001B[38;5;34m147,584\u001B[0m │ activation_27[\u001B[38;5;34m0\u001B[0m][\u001B[38;5;34m0\u001B[0m]    │\n",
       "├───────────────────────────┼────────────────────────┼────────────────┼────────────────────────┤\n",
       "│ conv2d_23 (\u001B[38;5;33mConv2D\u001B[0m)        │ (\u001B[38;5;45mNone\u001B[0m, \u001B[38;5;34m16\u001B[0m, \u001B[38;5;34m16\u001B[0m, \u001B[38;5;34m64\u001B[0m)     │         \u001B[38;5;34m73,792\u001B[0m │ activation_20[\u001B[38;5;34m0\u001B[0m][\u001B[38;5;34m0\u001B[0m]    │\n",
       "├───────────────────────────┼────────────────────────┼────────────────┼────────────────────────┤\n",
       "│ batch_normalization_28    │ (\u001B[38;5;45mNone\u001B[0m, \u001B[38;5;34m16\u001B[0m, \u001B[38;5;34m16\u001B[0m, \u001B[38;5;34m128\u001B[0m)    │            \u001B[38;5;34m512\u001B[0m │ conv2d_31[\u001B[38;5;34m0\u001B[0m][\u001B[38;5;34m0\u001B[0m]        │\n",
       "│ (\u001B[38;5;33mBatchNormalization\u001B[0m)      │                        │                │                        │\n",
       "├───────────────────────────┼────────────────────────┼────────────────┼────────────────────────┤\n",
       "│ batch_normalization_21    │ (\u001B[38;5;45mNone\u001B[0m, \u001B[38;5;34m16\u001B[0m, \u001B[38;5;34m16\u001B[0m, \u001B[38;5;34m64\u001B[0m)     │            \u001B[38;5;34m256\u001B[0m │ conv2d_23[\u001B[38;5;34m0\u001B[0m][\u001B[38;5;34m0\u001B[0m]        │\n",
       "│ (\u001B[38;5;33mBatchNormalization\u001B[0m)      │                        │                │                        │\n",
       "├───────────────────────────┼────────────────────────┼────────────────┼────────────────────────┤\n",
       "│ add_3 (\u001B[38;5;33mAdd\u001B[0m)               │ (\u001B[38;5;45mNone\u001B[0m, \u001B[38;5;34m16\u001B[0m, \u001B[38;5;34m16\u001B[0m, \u001B[38;5;34m128\u001B[0m)    │              \u001B[38;5;34m0\u001B[0m │ batch_normalization_2… │\n",
       "│                           │                        │                │ activation_26[\u001B[38;5;34m0\u001B[0m][\u001B[38;5;34m0\u001B[0m]    │\n",
       "├───────────────────────────┼────────────────────────┼────────────────┼────────────────────────┤\n",
       "│ activation_21             │ (\u001B[38;5;45mNone\u001B[0m, \u001B[38;5;34m16\u001B[0m, \u001B[38;5;34m16\u001B[0m, \u001B[38;5;34m64\u001B[0m)     │              \u001B[38;5;34m0\u001B[0m │ batch_normalization_2… │\n",
       "│ (\u001B[38;5;33mActivation\u001B[0m)              │                        │                │                        │\n",
       "├───────────────────────────┼────────────────────────┼────────────────┼────────────────────────┤\n",
       "│ activation_28             │ (\u001B[38;5;45mNone\u001B[0m, \u001B[38;5;34m16\u001B[0m, \u001B[38;5;34m16\u001B[0m, \u001B[38;5;34m128\u001B[0m)    │              \u001B[38;5;34m0\u001B[0m │ add_3[\u001B[38;5;34m0\u001B[0m][\u001B[38;5;34m0\u001B[0m]            │\n",
       "│ (\u001B[38;5;33mActivation\u001B[0m)              │                        │                │                        │\n",
       "├───────────────────────────┼────────────────────────┼────────────────┼────────────────────────┤\n",
       "│ up_sampling2d_5           │ (\u001B[38;5;45mNone\u001B[0m, \u001B[38;5;34m32\u001B[0m, \u001B[38;5;34m32\u001B[0m, \u001B[38;5;34m64\u001B[0m)     │              \u001B[38;5;34m0\u001B[0m │ activation_21[\u001B[38;5;34m0\u001B[0m][\u001B[38;5;34m0\u001B[0m]    │\n",
       "│ (\u001B[38;5;33mUpSampling2D\u001B[0m)            │                        │                │                        │\n",
       "├───────────────────────────┼────────────────────────┼────────────────┼────────────────────────┤\n",
       "│ up_sampling2d_7           │ (\u001B[38;5;45mNone\u001B[0m, \u001B[38;5;34m32\u001B[0m, \u001B[38;5;34m32\u001B[0m, \u001B[38;5;34m128\u001B[0m)    │              \u001B[38;5;34m0\u001B[0m │ activation_28[\u001B[38;5;34m0\u001B[0m][\u001B[38;5;34m0\u001B[0m]    │\n",
       "│ (\u001B[38;5;33mUpSampling2D\u001B[0m)            │                        │                │                        │\n",
       "├───────────────────────────┼────────────────────────┼────────────────┼────────────────────────┤\n",
       "│ concatenate_5             │ (\u001B[38;5;45mNone\u001B[0m, \u001B[38;5;34m32\u001B[0m, \u001B[38;5;34m32\u001B[0m, \u001B[38;5;34m128\u001B[0m)    │              \u001B[38;5;34m0\u001B[0m │ up_sampling2d_5[\u001B[38;5;34m0\u001B[0m][\u001B[38;5;34m0\u001B[0m], │\n",
       "│ (\u001B[38;5;33mConcatenate\u001B[0m)             │                        │                │ activation_15[\u001B[38;5;34m0\u001B[0m][\u001B[38;5;34m0\u001B[0m]    │\n",
       "├───────────────────────────┼────────────────────────┼────────────────┼────────────────────────┤\n",
       "│ concatenate_7             │ (\u001B[38;5;45mNone\u001B[0m, \u001B[38;5;34m32\u001B[0m, \u001B[38;5;34m32\u001B[0m, \u001B[38;5;34m192\u001B[0m)    │              \u001B[38;5;34m0\u001B[0m │ up_sampling2d_7[\u001B[38;5;34m0\u001B[0m][\u001B[38;5;34m0\u001B[0m], │\n",
       "│ (\u001B[38;5;33mConcatenate\u001B[0m)             │                        │                │ activation_15[\u001B[38;5;34m0\u001B[0m][\u001B[38;5;34m0\u001B[0m]    │\n",
       "├───────────────────────────┼────────────────────────┼────────────────┼────────────────────────┤\n",
       "│ conv2d_24 (\u001B[38;5;33mConv2D\u001B[0m)        │ (\u001B[38;5;45mNone\u001B[0m, \u001B[38;5;34m32\u001B[0m, \u001B[38;5;34m32\u001B[0m, \u001B[38;5;34m64\u001B[0m)     │         \u001B[38;5;34m73,792\u001B[0m │ concatenate_5[\u001B[38;5;34m0\u001B[0m][\u001B[38;5;34m0\u001B[0m]    │\n",
       "├───────────────────────────┼────────────────────────┼────────────────┼────────────────────────┤\n",
       "│ conv2d_32 (\u001B[38;5;33mConv2D\u001B[0m)        │ (\u001B[38;5;45mNone\u001B[0m, \u001B[38;5;34m32\u001B[0m, \u001B[38;5;34m32\u001B[0m, \u001B[38;5;34m64\u001B[0m)     │        \u001B[38;5;34m110,656\u001B[0m │ concatenate_7[\u001B[38;5;34m0\u001B[0m][\u001B[38;5;34m0\u001B[0m]    │\n",
       "├───────────────────────────┼────────────────────────┼────────────────┼────────────────────────┤\n",
       "│ batch_normalization_22    │ (\u001B[38;5;45mNone\u001B[0m, \u001B[38;5;34m32\u001B[0m, \u001B[38;5;34m32\u001B[0m, \u001B[38;5;34m64\u001B[0m)     │            \u001B[38;5;34m256\u001B[0m │ conv2d_24[\u001B[38;5;34m0\u001B[0m][\u001B[38;5;34m0\u001B[0m]        │\n",
       "│ (\u001B[38;5;33mBatchNormalization\u001B[0m)      │                        │                │                        │\n",
       "├───────────────────────────┼────────────────────────┼────────────────┼────────────────────────┤\n",
       "│ batch_normalization_29    │ (\u001B[38;5;45mNone\u001B[0m, \u001B[38;5;34m32\u001B[0m, \u001B[38;5;34m32\u001B[0m, \u001B[38;5;34m64\u001B[0m)     │            \u001B[38;5;34m256\u001B[0m │ conv2d_32[\u001B[38;5;34m0\u001B[0m][\u001B[38;5;34m0\u001B[0m]        │\n",
       "│ (\u001B[38;5;33mBatchNormalization\u001B[0m)      │                        │                │                        │\n",
       "├───────────────────────────┼────────────────────────┼────────────────┼────────────────────────┤\n",
       "│ activation_22             │ (\u001B[38;5;45mNone\u001B[0m, \u001B[38;5;34m32\u001B[0m, \u001B[38;5;34m32\u001B[0m, \u001B[38;5;34m64\u001B[0m)     │              \u001B[38;5;34m0\u001B[0m │ batch_normalization_2… │\n",
       "│ (\u001B[38;5;33mActivation\u001B[0m)              │                        │                │                        │\n",
       "├───────────────────────────┼────────────────────────┼────────────────┼────────────────────────┤\n",
       "│ activation_29             │ (\u001B[38;5;45mNone\u001B[0m, \u001B[38;5;34m32\u001B[0m, \u001B[38;5;34m32\u001B[0m, \u001B[38;5;34m64\u001B[0m)     │              \u001B[38;5;34m0\u001B[0m │ batch_normalization_2… │\n",
       "│ (\u001B[38;5;33mActivation\u001B[0m)              │                        │                │                        │\n",
       "├───────────────────────────┼────────────────────────┼────────────────┼────────────────────────┤\n",
       "│ conv2d_25 (\u001B[38;5;33mConv2D\u001B[0m)        │ (\u001B[38;5;45mNone\u001B[0m, \u001B[38;5;34m32\u001B[0m, \u001B[38;5;34m32\u001B[0m, \u001B[38;5;34m1\u001B[0m)      │            \u001B[38;5;34m577\u001B[0m │ activation_22[\u001B[38;5;34m0\u001B[0m][\u001B[38;5;34m0\u001B[0m]    │\n",
       "├───────────────────────────┼────────────────────────┼────────────────┼────────────────────────┤\n",
       "│ conv2d_33 (\u001B[38;5;33mConv2D\u001B[0m)        │ (\u001B[38;5;45mNone\u001B[0m, \u001B[38;5;34m32\u001B[0m, \u001B[38;5;34m32\u001B[0m, \u001B[38;5;34m1\u001B[0m)      │          \u001B[38;5;34m1,601\u001B[0m │ activation_29[\u001B[38;5;34m0\u001B[0m][\u001B[38;5;34m0\u001B[0m]    │\n",
       "├───────────────────────────┼────────────────────────┼────────────────┼────────────────────────┤\n",
       "│ reshape_4 (\u001B[38;5;33mReshape\u001B[0m)       │ (\u001B[38;5;45mNone\u001B[0m, \u001B[38;5;34m32\u001B[0m, \u001B[38;5;34m32\u001B[0m)         │              \u001B[38;5;34m0\u001B[0m │ conv2d_25[\u001B[38;5;34m0\u001B[0m][\u001B[38;5;34m0\u001B[0m]        │\n",
       "├───────────────────────────┼────────────────────────┼────────────────┼────────────────────────┤\n",
       "│ reshape_5 (\u001B[38;5;33mReshape\u001B[0m)       │ (\u001B[38;5;45mNone\u001B[0m, \u001B[38;5;34m32\u001B[0m, \u001B[38;5;34m32\u001B[0m)         │              \u001B[38;5;34m0\u001B[0m │ conv2d_33[\u001B[38;5;34m0\u001B[0m][\u001B[38;5;34m0\u001B[0m]        │\n",
       "└───────────────────────────┴────────────────────────┴────────────────┴────────────────────────┘\n"
      ],
      "text/html": [
       "<pre style=\"white-space:pre;overflow-x:auto;line-height:normal;font-family:Menlo,'DejaVu Sans Mono',consolas,'Courier New',monospace\">┏━━━━━━━━━━━━━━━━━━━━━━━━━━━┳━━━━━━━━━━━━━━━━━━━━━━━━┳━━━━━━━━━━━━━━━━┳━━━━━━━━━━━━━━━━━━━━━━━━┓\n",
       "┃<span style=\"font-weight: bold\"> Layer (type)              </span>┃<span style=\"font-weight: bold\"> Output Shape           </span>┃<span style=\"font-weight: bold\">        Param # </span>┃<span style=\"font-weight: bold\"> Connected to           </span>┃\n",
       "┡━━━━━━━━━━━━━━━━━━━━━━━━━━━╇━━━━━━━━━━━━━━━━━━━━━━━━╇━━━━━━━━━━━━━━━━╇━━━━━━━━━━━━━━━━━━━━━━━━┩\n",
       "│ input_layer_1             │ (<span style=\"color: #00d7ff; text-decoration-color: #00d7ff\">None</span>, <span style=\"color: #00af00; text-decoration-color: #00af00\">32</span>, <span style=\"color: #00af00; text-decoration-color: #00af00\">32</span>)         │              <span style=\"color: #00af00; text-decoration-color: #00af00\">0</span> │ -                      │\n",
       "│ (<span style=\"color: #0087ff; text-decoration-color: #0087ff\">InputLayer</span>)              │                        │                │                        │\n",
       "├───────────────────────────┼────────────────────────┼────────────────┼────────────────────────┤\n",
       "│ reshape_3 (<span style=\"color: #0087ff; text-decoration-color: #0087ff\">Reshape</span>)       │ (<span style=\"color: #00d7ff; text-decoration-color: #00d7ff\">None</span>, <span style=\"color: #00af00; text-decoration-color: #00af00\">32</span>, <span style=\"color: #00af00; text-decoration-color: #00af00\">32</span>, <span style=\"color: #00af00; text-decoration-color: #00af00\">1</span>)      │              <span style=\"color: #00af00; text-decoration-color: #00af00\">0</span> │ input_layer_1[<span style=\"color: #00af00; text-decoration-color: #00af00\">0</span>][<span style=\"color: #00af00; text-decoration-color: #00af00\">0</span>]    │\n",
       "├───────────────────────────┼────────────────────────┼────────────────┼────────────────────────┤\n",
       "│ conv2d_17 (<span style=\"color: #0087ff; text-decoration-color: #0087ff\">Conv2D</span>)        │ (<span style=\"color: #00d7ff; text-decoration-color: #00d7ff\">None</span>, <span style=\"color: #00af00; text-decoration-color: #00af00\">32</span>, <span style=\"color: #00af00; text-decoration-color: #00af00\">32</span>, <span style=\"color: #00af00; text-decoration-color: #00af00\">64</span>)     │          <span style=\"color: #00af00; text-decoration-color: #00af00\">1,664</span> │ reshape_3[<span style=\"color: #00af00; text-decoration-color: #00af00\">0</span>][<span style=\"color: #00af00; text-decoration-color: #00af00\">0</span>]        │\n",
       "├───────────────────────────┼────────────────────────┼────────────────┼────────────────────────┤\n",
       "│ batch_normalization_15    │ (<span style=\"color: #00d7ff; text-decoration-color: #00d7ff\">None</span>, <span style=\"color: #00af00; text-decoration-color: #00af00\">32</span>, <span style=\"color: #00af00; text-decoration-color: #00af00\">32</span>, <span style=\"color: #00af00; text-decoration-color: #00af00\">64</span>)     │            <span style=\"color: #00af00; text-decoration-color: #00af00\">256</span> │ conv2d_17[<span style=\"color: #00af00; text-decoration-color: #00af00\">0</span>][<span style=\"color: #00af00; text-decoration-color: #00af00\">0</span>]        │\n",
       "│ (<span style=\"color: #0087ff; text-decoration-color: #0087ff\">BatchNormalization</span>)      │                        │                │                        │\n",
       "├───────────────────────────┼────────────────────────┼────────────────┼────────────────────────┤\n",
       "│ activation_15             │ (<span style=\"color: #00d7ff; text-decoration-color: #00d7ff\">None</span>, <span style=\"color: #00af00; text-decoration-color: #00af00\">32</span>, <span style=\"color: #00af00; text-decoration-color: #00af00\">32</span>, <span style=\"color: #00af00; text-decoration-color: #00af00\">64</span>)     │              <span style=\"color: #00af00; text-decoration-color: #00af00\">0</span> │ batch_normalization_1… │\n",
       "│ (<span style=\"color: #0087ff; text-decoration-color: #0087ff\">Activation</span>)              │                        │                │                        │\n",
       "├───────────────────────────┼────────────────────────┼────────────────┼────────────────────────┤\n",
       "│ max_pooling2d_2           │ (<span style=\"color: #00d7ff; text-decoration-color: #00d7ff\">None</span>, <span style=\"color: #00af00; text-decoration-color: #00af00\">16</span>, <span style=\"color: #00af00; text-decoration-color: #00af00\">16</span>, <span style=\"color: #00af00; text-decoration-color: #00af00\">64</span>)     │              <span style=\"color: #00af00; text-decoration-color: #00af00\">0</span> │ activation_15[<span style=\"color: #00af00; text-decoration-color: #00af00\">0</span>][<span style=\"color: #00af00; text-decoration-color: #00af00\">0</span>]    │\n",
       "│ (<span style=\"color: #0087ff; text-decoration-color: #0087ff\">MaxPooling2D</span>)            │                        │                │                        │\n",
       "├───────────────────────────┼────────────────────────┼────────────────┼────────────────────────┤\n",
       "│ conv2d_18 (<span style=\"color: #0087ff; text-decoration-color: #0087ff\">Conv2D</span>)        │ (<span style=\"color: #00d7ff; text-decoration-color: #00d7ff\">None</span>, <span style=\"color: #00af00; text-decoration-color: #00af00\">16</span>, <span style=\"color: #00af00; text-decoration-color: #00af00\">16</span>, <span style=\"color: #00af00; text-decoration-color: #00af00\">128</span>)    │         <span style=\"color: #00af00; text-decoration-color: #00af00\">73,856</span> │ max_pooling2d_2[<span style=\"color: #00af00; text-decoration-color: #00af00\">0</span>][<span style=\"color: #00af00; text-decoration-color: #00af00\">0</span>]  │\n",
       "├───────────────────────────┼────────────────────────┼────────────────┼────────────────────────┤\n",
       "│ batch_normalization_16    │ (<span style=\"color: #00d7ff; text-decoration-color: #00d7ff\">None</span>, <span style=\"color: #00af00; text-decoration-color: #00af00\">16</span>, <span style=\"color: #00af00; text-decoration-color: #00af00\">16</span>, <span style=\"color: #00af00; text-decoration-color: #00af00\">128</span>)    │            <span style=\"color: #00af00; text-decoration-color: #00af00\">512</span> │ conv2d_18[<span style=\"color: #00af00; text-decoration-color: #00af00\">0</span>][<span style=\"color: #00af00; text-decoration-color: #00af00\">0</span>]        │\n",
       "│ (<span style=\"color: #0087ff; text-decoration-color: #0087ff\">BatchNormalization</span>)      │                        │                │                        │\n",
       "├───────────────────────────┼────────────────────────┼────────────────┼────────────────────────┤\n",
       "│ activation_16             │ (<span style=\"color: #00d7ff; text-decoration-color: #00d7ff\">None</span>, <span style=\"color: #00af00; text-decoration-color: #00af00\">16</span>, <span style=\"color: #00af00; text-decoration-color: #00af00\">16</span>, <span style=\"color: #00af00; text-decoration-color: #00af00\">128</span>)    │              <span style=\"color: #00af00; text-decoration-color: #00af00\">0</span> │ batch_normalization_1… │\n",
       "│ (<span style=\"color: #0087ff; text-decoration-color: #0087ff\">Activation</span>)              │                        │                │                        │\n",
       "├───────────────────────────┼────────────────────────┼────────────────┼────────────────────────┤\n",
       "│ max_pooling2d_3           │ (<span style=\"color: #00d7ff; text-decoration-color: #00d7ff\">None</span>, <span style=\"color: #00af00; text-decoration-color: #00af00\">8</span>, <span style=\"color: #00af00; text-decoration-color: #00af00\">8</span>, <span style=\"color: #00af00; text-decoration-color: #00af00\">128</span>)      │              <span style=\"color: #00af00; text-decoration-color: #00af00\">0</span> │ activation_16[<span style=\"color: #00af00; text-decoration-color: #00af00\">0</span>][<span style=\"color: #00af00; text-decoration-color: #00af00\">0</span>]    │\n",
       "│ (<span style=\"color: #0087ff; text-decoration-color: #0087ff\">MaxPooling2D</span>)            │                        │                │                        │\n",
       "├───────────────────────────┼────────────────────────┼────────────────┼────────────────────────┤\n",
       "│ conv2d_19 (<span style=\"color: #0087ff; text-decoration-color: #0087ff\">Conv2D</span>)        │ (<span style=\"color: #00d7ff; text-decoration-color: #00d7ff\">None</span>, <span style=\"color: #00af00; text-decoration-color: #00af00\">8</span>, <span style=\"color: #00af00; text-decoration-color: #00af00\">8</span>, <span style=\"color: #00af00; text-decoration-color: #00af00\">256</span>)      │        <span style=\"color: #00af00; text-decoration-color: #00af00\">295,168</span> │ max_pooling2d_3[<span style=\"color: #00af00; text-decoration-color: #00af00\">0</span>][<span style=\"color: #00af00; text-decoration-color: #00af00\">0</span>]  │\n",
       "├───────────────────────────┼────────────────────────┼────────────────┼────────────────────────┤\n",
       "│ batch_normalization_17    │ (<span style=\"color: #00d7ff; text-decoration-color: #00d7ff\">None</span>, <span style=\"color: #00af00; text-decoration-color: #00af00\">8</span>, <span style=\"color: #00af00; text-decoration-color: #00af00\">8</span>, <span style=\"color: #00af00; text-decoration-color: #00af00\">256</span>)      │          <span style=\"color: #00af00; text-decoration-color: #00af00\">1,024</span> │ conv2d_19[<span style=\"color: #00af00; text-decoration-color: #00af00\">0</span>][<span style=\"color: #00af00; text-decoration-color: #00af00\">0</span>]        │\n",
       "│ (<span style=\"color: #0087ff; text-decoration-color: #0087ff\">BatchNormalization</span>)      │                        │                │                        │\n",
       "├───────────────────────────┼────────────────────────┼────────────────┼────────────────────────┤\n",
       "│ activation_17             │ (<span style=\"color: #00d7ff; text-decoration-color: #00d7ff\">None</span>, <span style=\"color: #00af00; text-decoration-color: #00af00\">8</span>, <span style=\"color: #00af00; text-decoration-color: #00af00\">8</span>, <span style=\"color: #00af00; text-decoration-color: #00af00\">256</span>)      │              <span style=\"color: #00af00; text-decoration-color: #00af00\">0</span> │ batch_normalization_1… │\n",
       "│ (<span style=\"color: #0087ff; text-decoration-color: #0087ff\">Activation</span>)              │                        │                │                        │\n",
       "├───────────────────────────┼────────────────────────┼────────────────┼────────────────────────┤\n",
       "│ conv2d_20 (<span style=\"color: #0087ff; text-decoration-color: #0087ff\">Conv2D</span>)        │ (<span style=\"color: #00d7ff; text-decoration-color: #00d7ff\">None</span>, <span style=\"color: #00af00; text-decoration-color: #00af00\">8</span>, <span style=\"color: #00af00; text-decoration-color: #00af00\">8</span>, <span style=\"color: #00af00; text-decoration-color: #00af00\">256</span>)      │        <span style=\"color: #00af00; text-decoration-color: #00af00\">590,080</span> │ activation_17[<span style=\"color: #00af00; text-decoration-color: #00af00\">0</span>][<span style=\"color: #00af00; text-decoration-color: #00af00\">0</span>]    │\n",
       "├───────────────────────────┼────────────────────────┼────────────────┼────────────────────────┤\n",
       "│ batch_normalization_18    │ (<span style=\"color: #00d7ff; text-decoration-color: #00d7ff\">None</span>, <span style=\"color: #00af00; text-decoration-color: #00af00\">8</span>, <span style=\"color: #00af00; text-decoration-color: #00af00\">8</span>, <span style=\"color: #00af00; text-decoration-color: #00af00\">256</span>)      │          <span style=\"color: #00af00; text-decoration-color: #00af00\">1,024</span> │ conv2d_20[<span style=\"color: #00af00; text-decoration-color: #00af00\">0</span>][<span style=\"color: #00af00; text-decoration-color: #00af00\">0</span>]        │\n",
       "│ (<span style=\"color: #0087ff; text-decoration-color: #0087ff\">BatchNormalization</span>)      │                        │                │                        │\n",
       "├───────────────────────────┼────────────────────────┼────────────────┼────────────────────────┤\n",
       "│ activation_18             │ (<span style=\"color: #00d7ff; text-decoration-color: #00d7ff\">None</span>, <span style=\"color: #00af00; text-decoration-color: #00af00\">8</span>, <span style=\"color: #00af00; text-decoration-color: #00af00\">8</span>, <span style=\"color: #00af00; text-decoration-color: #00af00\">256</span>)      │              <span style=\"color: #00af00; text-decoration-color: #00af00\">0</span> │ batch_normalization_1… │\n",
       "│ (<span style=\"color: #0087ff; text-decoration-color: #0087ff\">Activation</span>)              │                        │                │                        │\n",
       "├───────────────────────────┼────────────────────────┼────────────────┼────────────────────────┤\n",
       "│ conv2d_26 (<span style=\"color: #0087ff; text-decoration-color: #0087ff\">Conv2D</span>)        │ (<span style=\"color: #00d7ff; text-decoration-color: #00d7ff\">None</span>, <span style=\"color: #00af00; text-decoration-color: #00af00\">8</span>, <span style=\"color: #00af00; text-decoration-color: #00af00\">8</span>, <span style=\"color: #00af00; text-decoration-color: #00af00\">192</span>)      │        <span style=\"color: #00af00; text-decoration-color: #00af00\">442,560</span> │ activation_18[<span style=\"color: #00af00; text-decoration-color: #00af00\">0</span>][<span style=\"color: #00af00; text-decoration-color: #00af00\">0</span>]    │\n",
       "├───────────────────────────┼────────────────────────┼────────────────┼────────────────────────┤\n",
       "│ batch_normalization_23    │ (<span style=\"color: #00d7ff; text-decoration-color: #00d7ff\">None</span>, <span style=\"color: #00af00; text-decoration-color: #00af00\">8</span>, <span style=\"color: #00af00; text-decoration-color: #00af00\">8</span>, <span style=\"color: #00af00; text-decoration-color: #00af00\">192</span>)      │            <span style=\"color: #00af00; text-decoration-color: #00af00\">768</span> │ conv2d_26[<span style=\"color: #00af00; text-decoration-color: #00af00\">0</span>][<span style=\"color: #00af00; text-decoration-color: #00af00\">0</span>]        │\n",
       "│ (<span style=\"color: #0087ff; text-decoration-color: #0087ff\">BatchNormalization</span>)      │                        │                │                        │\n",
       "├───────────────────────────┼────────────────────────┼────────────────┼────────────────────────┤\n",
       "│ activation_23             │ (<span style=\"color: #00d7ff; text-decoration-color: #00d7ff\">None</span>, <span style=\"color: #00af00; text-decoration-color: #00af00\">8</span>, <span style=\"color: #00af00; text-decoration-color: #00af00\">8</span>, <span style=\"color: #00af00; text-decoration-color: #00af00\">192</span>)      │              <span style=\"color: #00af00; text-decoration-color: #00af00\">0</span> │ batch_normalization_2… │\n",
       "│ (<span style=\"color: #0087ff; text-decoration-color: #0087ff\">Activation</span>)              │                        │                │                        │\n",
       "├───────────────────────────┼────────────────────────┼────────────────┼────────────────────────┤\n",
       "│ conv2d_27 (<span style=\"color: #0087ff; text-decoration-color: #0087ff\">Conv2D</span>)        │ (<span style=\"color: #00d7ff; text-decoration-color: #00d7ff\">None</span>, <span style=\"color: #00af00; text-decoration-color: #00af00\">8</span>, <span style=\"color: #00af00; text-decoration-color: #00af00\">8</span>, <span style=\"color: #00af00; text-decoration-color: #00af00\">192</span>)      │        <span style=\"color: #00af00; text-decoration-color: #00af00\">331,968</span> │ activation_23[<span style=\"color: #00af00; text-decoration-color: #00af00\">0</span>][<span style=\"color: #00af00; text-decoration-color: #00af00\">0</span>]    │\n",
       "├───────────────────────────┼────────────────────────┼────────────────┼────────────────────────┤\n",
       "│ batch_normalization_24    │ (<span style=\"color: #00d7ff; text-decoration-color: #00d7ff\">None</span>, <span style=\"color: #00af00; text-decoration-color: #00af00\">8</span>, <span style=\"color: #00af00; text-decoration-color: #00af00\">8</span>, <span style=\"color: #00af00; text-decoration-color: #00af00\">192</span>)      │            <span style=\"color: #00af00; text-decoration-color: #00af00\">768</span> │ conv2d_27[<span style=\"color: #00af00; text-decoration-color: #00af00\">0</span>][<span style=\"color: #00af00; text-decoration-color: #00af00\">0</span>]        │\n",
       "│ (<span style=\"color: #0087ff; text-decoration-color: #0087ff\">BatchNormalization</span>)      │                        │                │                        │\n",
       "├───────────────────────────┼────────────────────────┼────────────────┼────────────────────────┤\n",
       "│ activation_24             │ (<span style=\"color: #00d7ff; text-decoration-color: #00d7ff\">None</span>, <span style=\"color: #00af00; text-decoration-color: #00af00\">8</span>, <span style=\"color: #00af00; text-decoration-color: #00af00\">8</span>, <span style=\"color: #00af00; text-decoration-color: #00af00\">192</span>)      │              <span style=\"color: #00af00; text-decoration-color: #00af00\">0</span> │ batch_normalization_2… │\n",
       "│ (<span style=\"color: #0087ff; text-decoration-color: #0087ff\">Activation</span>)              │                        │                │                        │\n",
       "├───────────────────────────┼────────────────────────┼────────────────┼────────────────────────┤\n",
       "│ conv2d_28 (<span style=\"color: #0087ff; text-decoration-color: #0087ff\">Conv2D</span>)        │ (<span style=\"color: #00d7ff; text-decoration-color: #00d7ff\">None</span>, <span style=\"color: #00af00; text-decoration-color: #00af00\">8</span>, <span style=\"color: #00af00; text-decoration-color: #00af00\">8</span>, <span style=\"color: #00af00; text-decoration-color: #00af00\">192</span>)      │        <span style=\"color: #00af00; text-decoration-color: #00af00\">331,968</span> │ activation_24[<span style=\"color: #00af00; text-decoration-color: #00af00\">0</span>][<span style=\"color: #00af00; text-decoration-color: #00af00\">0</span>]    │\n",
       "├───────────────────────────┼────────────────────────┼────────────────┼────────────────────────┤\n",
       "│ batch_normalization_25    │ (<span style=\"color: #00d7ff; text-decoration-color: #00d7ff\">None</span>, <span style=\"color: #00af00; text-decoration-color: #00af00\">8</span>, <span style=\"color: #00af00; text-decoration-color: #00af00\">8</span>, <span style=\"color: #00af00; text-decoration-color: #00af00\">192</span>)      │            <span style=\"color: #00af00; text-decoration-color: #00af00\">768</span> │ conv2d_28[<span style=\"color: #00af00; text-decoration-color: #00af00\">0</span>][<span style=\"color: #00af00; text-decoration-color: #00af00\">0</span>]        │\n",
       "│ (<span style=\"color: #0087ff; text-decoration-color: #0087ff\">BatchNormalization</span>)      │                        │                │                        │\n",
       "├───────────────────────────┼────────────────────────┼────────────────┼────────────────────────┤\n",
       "│ add_2 (<span style=\"color: #0087ff; text-decoration-color: #0087ff\">Add</span>)               │ (<span style=\"color: #00d7ff; text-decoration-color: #00d7ff\">None</span>, <span style=\"color: #00af00; text-decoration-color: #00af00\">8</span>, <span style=\"color: #00af00; text-decoration-color: #00af00\">8</span>, <span style=\"color: #00af00; text-decoration-color: #00af00\">192</span>)      │              <span style=\"color: #00af00; text-decoration-color: #00af00\">0</span> │ batch_normalization_2… │\n",
       "│                           │                        │                │ activation_23[<span style=\"color: #00af00; text-decoration-color: #00af00\">0</span>][<span style=\"color: #00af00; text-decoration-color: #00af00\">0</span>]    │\n",
       "├───────────────────────────┼────────────────────────┼────────────────┼────────────────────────┤\n",
       "│ activation_25             │ (<span style=\"color: #00d7ff; text-decoration-color: #00d7ff\">None</span>, <span style=\"color: #00af00; text-decoration-color: #00af00\">8</span>, <span style=\"color: #00af00; text-decoration-color: #00af00\">8</span>, <span style=\"color: #00af00; text-decoration-color: #00af00\">192</span>)      │              <span style=\"color: #00af00; text-decoration-color: #00af00\">0</span> │ add_2[<span style=\"color: #00af00; text-decoration-color: #00af00\">0</span>][<span style=\"color: #00af00; text-decoration-color: #00af00\">0</span>]            │\n",
       "│ (<span style=\"color: #0087ff; text-decoration-color: #0087ff\">Activation</span>)              │                        │                │                        │\n",
       "├───────────────────────────┼────────────────────────┼────────────────┼────────────────────────┤\n",
       "│ up_sampling2d_6           │ (<span style=\"color: #00d7ff; text-decoration-color: #00d7ff\">None</span>, <span style=\"color: #00af00; text-decoration-color: #00af00\">16</span>, <span style=\"color: #00af00; text-decoration-color: #00af00\">16</span>, <span style=\"color: #00af00; text-decoration-color: #00af00\">192</span>)    │              <span style=\"color: #00af00; text-decoration-color: #00af00\">0</span> │ activation_25[<span style=\"color: #00af00; text-decoration-color: #00af00\">0</span>][<span style=\"color: #00af00; text-decoration-color: #00af00\">0</span>]    │\n",
       "│ (<span style=\"color: #0087ff; text-decoration-color: #0087ff\">UpSampling2D</span>)            │                        │                │                        │\n",
       "├───────────────────────────┼────────────────────────┼────────────────┼────────────────────────┤\n",
       "│ conv2d_21 (<span style=\"color: #0087ff; text-decoration-color: #0087ff\">Conv2D</span>)        │ (<span style=\"color: #00d7ff; text-decoration-color: #00d7ff\">None</span>, <span style=\"color: #00af00; text-decoration-color: #00af00\">8</span>, <span style=\"color: #00af00; text-decoration-color: #00af00\">8</span>, <span style=\"color: #00af00; text-decoration-color: #00af00\">128</span>)      │        <span style=\"color: #00af00; text-decoration-color: #00af00\">295,040</span> │ activation_18[<span style=\"color: #00af00; text-decoration-color: #00af00\">0</span>][<span style=\"color: #00af00; text-decoration-color: #00af00\">0</span>]    │\n",
       "├───────────────────────────┼────────────────────────┼────────────────┼────────────────────────┤\n",
       "│ concatenate_6             │ (<span style=\"color: #00d7ff; text-decoration-color: #00d7ff\">None</span>, <span style=\"color: #00af00; text-decoration-color: #00af00\">16</span>, <span style=\"color: #00af00; text-decoration-color: #00af00\">16</span>, <span style=\"color: #00af00; text-decoration-color: #00af00\">320</span>)    │              <span style=\"color: #00af00; text-decoration-color: #00af00\">0</span> │ up_sampling2d_6[<span style=\"color: #00af00; text-decoration-color: #00af00\">0</span>][<span style=\"color: #00af00; text-decoration-color: #00af00\">0</span>], │\n",
       "│ (<span style=\"color: #0087ff; text-decoration-color: #0087ff\">Concatenate</span>)             │                        │                │ activation_16[<span style=\"color: #00af00; text-decoration-color: #00af00\">0</span>][<span style=\"color: #00af00; text-decoration-color: #00af00\">0</span>]    │\n",
       "├───────────────────────────┼────────────────────────┼────────────────┼────────────────────────┤\n",
       "│ batch_normalization_19    │ (<span style=\"color: #00d7ff; text-decoration-color: #00d7ff\">None</span>, <span style=\"color: #00af00; text-decoration-color: #00af00\">8</span>, <span style=\"color: #00af00; text-decoration-color: #00af00\">8</span>, <span style=\"color: #00af00; text-decoration-color: #00af00\">128</span>)      │            <span style=\"color: #00af00; text-decoration-color: #00af00\">512</span> │ conv2d_21[<span style=\"color: #00af00; text-decoration-color: #00af00\">0</span>][<span style=\"color: #00af00; text-decoration-color: #00af00\">0</span>]        │\n",
       "│ (<span style=\"color: #0087ff; text-decoration-color: #0087ff\">BatchNormalization</span>)      │                        │                │                        │\n",
       "├───────────────────────────┼────────────────────────┼────────────────┼────────────────────────┤\n",
       "│ conv2d_29 (<span style=\"color: #0087ff; text-decoration-color: #0087ff\">Conv2D</span>)        │ (<span style=\"color: #00d7ff; text-decoration-color: #00d7ff\">None</span>, <span style=\"color: #00af00; text-decoration-color: #00af00\">16</span>, <span style=\"color: #00af00; text-decoration-color: #00af00\">16</span>, <span style=\"color: #00af00; text-decoration-color: #00af00\">128</span>)    │        <span style=\"color: #00af00; text-decoration-color: #00af00\">368,768</span> │ concatenate_6[<span style=\"color: #00af00; text-decoration-color: #00af00\">0</span>][<span style=\"color: #00af00; text-decoration-color: #00af00\">0</span>]    │\n",
       "├───────────────────────────┼────────────────────────┼────────────────┼────────────────────────┤\n",
       "│ activation_19             │ (<span style=\"color: #00d7ff; text-decoration-color: #00d7ff\">None</span>, <span style=\"color: #00af00; text-decoration-color: #00af00\">8</span>, <span style=\"color: #00af00; text-decoration-color: #00af00\">8</span>, <span style=\"color: #00af00; text-decoration-color: #00af00\">128</span>)      │              <span style=\"color: #00af00; text-decoration-color: #00af00\">0</span> │ batch_normalization_1… │\n",
       "│ (<span style=\"color: #0087ff; text-decoration-color: #0087ff\">Activation</span>)              │                        │                │                        │\n",
       "├───────────────────────────┼────────────────────────┼────────────────┼────────────────────────┤\n",
       "│ batch_normalization_26    │ (<span style=\"color: #00d7ff; text-decoration-color: #00d7ff\">None</span>, <span style=\"color: #00af00; text-decoration-color: #00af00\">16</span>, <span style=\"color: #00af00; text-decoration-color: #00af00\">16</span>, <span style=\"color: #00af00; text-decoration-color: #00af00\">128</span>)    │            <span style=\"color: #00af00; text-decoration-color: #00af00\">512</span> │ conv2d_29[<span style=\"color: #00af00; text-decoration-color: #00af00\">0</span>][<span style=\"color: #00af00; text-decoration-color: #00af00\">0</span>]        │\n",
       "│ (<span style=\"color: #0087ff; text-decoration-color: #0087ff\">BatchNormalization</span>)      │                        │                │                        │\n",
       "├───────────────────────────┼────────────────────────┼────────────────┼────────────────────────┤\n",
       "│ up_sampling2d_4           │ (<span style=\"color: #00d7ff; text-decoration-color: #00d7ff\">None</span>, <span style=\"color: #00af00; text-decoration-color: #00af00\">16</span>, <span style=\"color: #00af00; text-decoration-color: #00af00\">16</span>, <span style=\"color: #00af00; text-decoration-color: #00af00\">128</span>)    │              <span style=\"color: #00af00; text-decoration-color: #00af00\">0</span> │ activation_19[<span style=\"color: #00af00; text-decoration-color: #00af00\">0</span>][<span style=\"color: #00af00; text-decoration-color: #00af00\">0</span>]    │\n",
       "│ (<span style=\"color: #0087ff; text-decoration-color: #0087ff\">UpSampling2D</span>)            │                        │                │                        │\n",
       "├───────────────────────────┼────────────────────────┼────────────────┼────────────────────────┤\n",
       "│ activation_26             │ (<span style=\"color: #00d7ff; text-decoration-color: #00d7ff\">None</span>, <span style=\"color: #00af00; text-decoration-color: #00af00\">16</span>, <span style=\"color: #00af00; text-decoration-color: #00af00\">16</span>, <span style=\"color: #00af00; text-decoration-color: #00af00\">128</span>)    │              <span style=\"color: #00af00; text-decoration-color: #00af00\">0</span> │ batch_normalization_2… │\n",
       "│ (<span style=\"color: #0087ff; text-decoration-color: #0087ff\">Activation</span>)              │                        │                │                        │\n",
       "├───────────────────────────┼────────────────────────┼────────────────┼────────────────────────┤\n",
       "│ concatenate_4             │ (<span style=\"color: #00d7ff; text-decoration-color: #00d7ff\">None</span>, <span style=\"color: #00af00; text-decoration-color: #00af00\">16</span>, <span style=\"color: #00af00; text-decoration-color: #00af00\">16</span>, <span style=\"color: #00af00; text-decoration-color: #00af00\">256</span>)    │              <span style=\"color: #00af00; text-decoration-color: #00af00\">0</span> │ up_sampling2d_4[<span style=\"color: #00af00; text-decoration-color: #00af00\">0</span>][<span style=\"color: #00af00; text-decoration-color: #00af00\">0</span>], │\n",
       "│ (<span style=\"color: #0087ff; text-decoration-color: #0087ff\">Concatenate</span>)             │                        │                │ activation_16[<span style=\"color: #00af00; text-decoration-color: #00af00\">0</span>][<span style=\"color: #00af00; text-decoration-color: #00af00\">0</span>]    │\n",
       "├───────────────────────────┼────────────────────────┼────────────────┼────────────────────────┤\n",
       "│ conv2d_30 (<span style=\"color: #0087ff; text-decoration-color: #0087ff\">Conv2D</span>)        │ (<span style=\"color: #00d7ff; text-decoration-color: #00d7ff\">None</span>, <span style=\"color: #00af00; text-decoration-color: #00af00\">16</span>, <span style=\"color: #00af00; text-decoration-color: #00af00\">16</span>, <span style=\"color: #00af00; text-decoration-color: #00af00\">128</span>)    │        <span style=\"color: #00af00; text-decoration-color: #00af00\">147,584</span> │ activation_26[<span style=\"color: #00af00; text-decoration-color: #00af00\">0</span>][<span style=\"color: #00af00; text-decoration-color: #00af00\">0</span>]    │\n",
       "├───────────────────────────┼────────────────────────┼────────────────┼────────────────────────┤\n",
       "│ conv2d_22 (<span style=\"color: #0087ff; text-decoration-color: #0087ff\">Conv2D</span>)        │ (<span style=\"color: #00d7ff; text-decoration-color: #00d7ff\">None</span>, <span style=\"color: #00af00; text-decoration-color: #00af00\">16</span>, <span style=\"color: #00af00; text-decoration-color: #00af00\">16</span>, <span style=\"color: #00af00; text-decoration-color: #00af00\">128</span>)    │        <span style=\"color: #00af00; text-decoration-color: #00af00\">295,040</span> │ concatenate_4[<span style=\"color: #00af00; text-decoration-color: #00af00\">0</span>][<span style=\"color: #00af00; text-decoration-color: #00af00\">0</span>]    │\n",
       "├───────────────────────────┼────────────────────────┼────────────────┼────────────────────────┤\n",
       "│ batch_normalization_27    │ (<span style=\"color: #00d7ff; text-decoration-color: #00d7ff\">None</span>, <span style=\"color: #00af00; text-decoration-color: #00af00\">16</span>, <span style=\"color: #00af00; text-decoration-color: #00af00\">16</span>, <span style=\"color: #00af00; text-decoration-color: #00af00\">128</span>)    │            <span style=\"color: #00af00; text-decoration-color: #00af00\">512</span> │ conv2d_30[<span style=\"color: #00af00; text-decoration-color: #00af00\">0</span>][<span style=\"color: #00af00; text-decoration-color: #00af00\">0</span>]        │\n",
       "│ (<span style=\"color: #0087ff; text-decoration-color: #0087ff\">BatchNormalization</span>)      │                        │                │                        │\n",
       "├───────────────────────────┼────────────────────────┼────────────────┼────────────────────────┤\n",
       "│ batch_normalization_20    │ (<span style=\"color: #00d7ff; text-decoration-color: #00d7ff\">None</span>, <span style=\"color: #00af00; text-decoration-color: #00af00\">16</span>, <span style=\"color: #00af00; text-decoration-color: #00af00\">16</span>, <span style=\"color: #00af00; text-decoration-color: #00af00\">128</span>)    │            <span style=\"color: #00af00; text-decoration-color: #00af00\">512</span> │ conv2d_22[<span style=\"color: #00af00; text-decoration-color: #00af00\">0</span>][<span style=\"color: #00af00; text-decoration-color: #00af00\">0</span>]        │\n",
       "│ (<span style=\"color: #0087ff; text-decoration-color: #0087ff\">BatchNormalization</span>)      │                        │                │                        │\n",
       "├───────────────────────────┼────────────────────────┼────────────────┼────────────────────────┤\n",
       "│ activation_27             │ (<span style=\"color: #00d7ff; text-decoration-color: #00d7ff\">None</span>, <span style=\"color: #00af00; text-decoration-color: #00af00\">16</span>, <span style=\"color: #00af00; text-decoration-color: #00af00\">16</span>, <span style=\"color: #00af00; text-decoration-color: #00af00\">128</span>)    │              <span style=\"color: #00af00; text-decoration-color: #00af00\">0</span> │ batch_normalization_2… │\n",
       "│ (<span style=\"color: #0087ff; text-decoration-color: #0087ff\">Activation</span>)              │                        │                │                        │\n",
       "├───────────────────────────┼────────────────────────┼────────────────┼────────────────────────┤\n",
       "│ activation_20             │ (<span style=\"color: #00d7ff; text-decoration-color: #00d7ff\">None</span>, <span style=\"color: #00af00; text-decoration-color: #00af00\">16</span>, <span style=\"color: #00af00; text-decoration-color: #00af00\">16</span>, <span style=\"color: #00af00; text-decoration-color: #00af00\">128</span>)    │              <span style=\"color: #00af00; text-decoration-color: #00af00\">0</span> │ batch_normalization_2… │\n",
       "│ (<span style=\"color: #0087ff; text-decoration-color: #0087ff\">Activation</span>)              │                        │                │                        │\n",
       "├───────────────────────────┼────────────────────────┼────────────────┼────────────────────────┤\n",
       "│ conv2d_31 (<span style=\"color: #0087ff; text-decoration-color: #0087ff\">Conv2D</span>)        │ (<span style=\"color: #00d7ff; text-decoration-color: #00d7ff\">None</span>, <span style=\"color: #00af00; text-decoration-color: #00af00\">16</span>, <span style=\"color: #00af00; text-decoration-color: #00af00\">16</span>, <span style=\"color: #00af00; text-decoration-color: #00af00\">128</span>)    │        <span style=\"color: #00af00; text-decoration-color: #00af00\">147,584</span> │ activation_27[<span style=\"color: #00af00; text-decoration-color: #00af00\">0</span>][<span style=\"color: #00af00; text-decoration-color: #00af00\">0</span>]    │\n",
       "├───────────────────────────┼────────────────────────┼────────────────┼────────────────────────┤\n",
       "│ conv2d_23 (<span style=\"color: #0087ff; text-decoration-color: #0087ff\">Conv2D</span>)        │ (<span style=\"color: #00d7ff; text-decoration-color: #00d7ff\">None</span>, <span style=\"color: #00af00; text-decoration-color: #00af00\">16</span>, <span style=\"color: #00af00; text-decoration-color: #00af00\">16</span>, <span style=\"color: #00af00; text-decoration-color: #00af00\">64</span>)     │         <span style=\"color: #00af00; text-decoration-color: #00af00\">73,792</span> │ activation_20[<span style=\"color: #00af00; text-decoration-color: #00af00\">0</span>][<span style=\"color: #00af00; text-decoration-color: #00af00\">0</span>]    │\n",
       "├───────────────────────────┼────────────────────────┼────────────────┼────────────────────────┤\n",
       "│ batch_normalization_28    │ (<span style=\"color: #00d7ff; text-decoration-color: #00d7ff\">None</span>, <span style=\"color: #00af00; text-decoration-color: #00af00\">16</span>, <span style=\"color: #00af00; text-decoration-color: #00af00\">16</span>, <span style=\"color: #00af00; text-decoration-color: #00af00\">128</span>)    │            <span style=\"color: #00af00; text-decoration-color: #00af00\">512</span> │ conv2d_31[<span style=\"color: #00af00; text-decoration-color: #00af00\">0</span>][<span style=\"color: #00af00; text-decoration-color: #00af00\">0</span>]        │\n",
       "│ (<span style=\"color: #0087ff; text-decoration-color: #0087ff\">BatchNormalization</span>)      │                        │                │                        │\n",
       "├───────────────────────────┼────────────────────────┼────────────────┼────────────────────────┤\n",
       "│ batch_normalization_21    │ (<span style=\"color: #00d7ff; text-decoration-color: #00d7ff\">None</span>, <span style=\"color: #00af00; text-decoration-color: #00af00\">16</span>, <span style=\"color: #00af00; text-decoration-color: #00af00\">16</span>, <span style=\"color: #00af00; text-decoration-color: #00af00\">64</span>)     │            <span style=\"color: #00af00; text-decoration-color: #00af00\">256</span> │ conv2d_23[<span style=\"color: #00af00; text-decoration-color: #00af00\">0</span>][<span style=\"color: #00af00; text-decoration-color: #00af00\">0</span>]        │\n",
       "│ (<span style=\"color: #0087ff; text-decoration-color: #0087ff\">BatchNormalization</span>)      │                        │                │                        │\n",
       "├───────────────────────────┼────────────────────────┼────────────────┼────────────────────────┤\n",
       "│ add_3 (<span style=\"color: #0087ff; text-decoration-color: #0087ff\">Add</span>)               │ (<span style=\"color: #00d7ff; text-decoration-color: #00d7ff\">None</span>, <span style=\"color: #00af00; text-decoration-color: #00af00\">16</span>, <span style=\"color: #00af00; text-decoration-color: #00af00\">16</span>, <span style=\"color: #00af00; text-decoration-color: #00af00\">128</span>)    │              <span style=\"color: #00af00; text-decoration-color: #00af00\">0</span> │ batch_normalization_2… │\n",
       "│                           │                        │                │ activation_26[<span style=\"color: #00af00; text-decoration-color: #00af00\">0</span>][<span style=\"color: #00af00; text-decoration-color: #00af00\">0</span>]    │\n",
       "├───────────────────────────┼────────────────────────┼────────────────┼────────────────────────┤\n",
       "│ activation_21             │ (<span style=\"color: #00d7ff; text-decoration-color: #00d7ff\">None</span>, <span style=\"color: #00af00; text-decoration-color: #00af00\">16</span>, <span style=\"color: #00af00; text-decoration-color: #00af00\">16</span>, <span style=\"color: #00af00; text-decoration-color: #00af00\">64</span>)     │              <span style=\"color: #00af00; text-decoration-color: #00af00\">0</span> │ batch_normalization_2… │\n",
       "│ (<span style=\"color: #0087ff; text-decoration-color: #0087ff\">Activation</span>)              │                        │                │                        │\n",
       "├───────────────────────────┼────────────────────────┼────────────────┼────────────────────────┤\n",
       "│ activation_28             │ (<span style=\"color: #00d7ff; text-decoration-color: #00d7ff\">None</span>, <span style=\"color: #00af00; text-decoration-color: #00af00\">16</span>, <span style=\"color: #00af00; text-decoration-color: #00af00\">16</span>, <span style=\"color: #00af00; text-decoration-color: #00af00\">128</span>)    │              <span style=\"color: #00af00; text-decoration-color: #00af00\">0</span> │ add_3[<span style=\"color: #00af00; text-decoration-color: #00af00\">0</span>][<span style=\"color: #00af00; text-decoration-color: #00af00\">0</span>]            │\n",
       "│ (<span style=\"color: #0087ff; text-decoration-color: #0087ff\">Activation</span>)              │                        │                │                        │\n",
       "├───────────────────────────┼────────────────────────┼────────────────┼────────────────────────┤\n",
       "│ up_sampling2d_5           │ (<span style=\"color: #00d7ff; text-decoration-color: #00d7ff\">None</span>, <span style=\"color: #00af00; text-decoration-color: #00af00\">32</span>, <span style=\"color: #00af00; text-decoration-color: #00af00\">32</span>, <span style=\"color: #00af00; text-decoration-color: #00af00\">64</span>)     │              <span style=\"color: #00af00; text-decoration-color: #00af00\">0</span> │ activation_21[<span style=\"color: #00af00; text-decoration-color: #00af00\">0</span>][<span style=\"color: #00af00; text-decoration-color: #00af00\">0</span>]    │\n",
       "│ (<span style=\"color: #0087ff; text-decoration-color: #0087ff\">UpSampling2D</span>)            │                        │                │                        │\n",
       "├───────────────────────────┼────────────────────────┼────────────────┼────────────────────────┤\n",
       "│ up_sampling2d_7           │ (<span style=\"color: #00d7ff; text-decoration-color: #00d7ff\">None</span>, <span style=\"color: #00af00; text-decoration-color: #00af00\">32</span>, <span style=\"color: #00af00; text-decoration-color: #00af00\">32</span>, <span style=\"color: #00af00; text-decoration-color: #00af00\">128</span>)    │              <span style=\"color: #00af00; text-decoration-color: #00af00\">0</span> │ activation_28[<span style=\"color: #00af00; text-decoration-color: #00af00\">0</span>][<span style=\"color: #00af00; text-decoration-color: #00af00\">0</span>]    │\n",
       "│ (<span style=\"color: #0087ff; text-decoration-color: #0087ff\">UpSampling2D</span>)            │                        │                │                        │\n",
       "├───────────────────────────┼────────────────────────┼────────────────┼────────────────────────┤\n",
       "│ concatenate_5             │ (<span style=\"color: #00d7ff; text-decoration-color: #00d7ff\">None</span>, <span style=\"color: #00af00; text-decoration-color: #00af00\">32</span>, <span style=\"color: #00af00; text-decoration-color: #00af00\">32</span>, <span style=\"color: #00af00; text-decoration-color: #00af00\">128</span>)    │              <span style=\"color: #00af00; text-decoration-color: #00af00\">0</span> │ up_sampling2d_5[<span style=\"color: #00af00; text-decoration-color: #00af00\">0</span>][<span style=\"color: #00af00; text-decoration-color: #00af00\">0</span>], │\n",
       "│ (<span style=\"color: #0087ff; text-decoration-color: #0087ff\">Concatenate</span>)             │                        │                │ activation_15[<span style=\"color: #00af00; text-decoration-color: #00af00\">0</span>][<span style=\"color: #00af00; text-decoration-color: #00af00\">0</span>]    │\n",
       "├───────────────────────────┼────────────────────────┼────────────────┼────────────────────────┤\n",
       "│ concatenate_7             │ (<span style=\"color: #00d7ff; text-decoration-color: #00d7ff\">None</span>, <span style=\"color: #00af00; text-decoration-color: #00af00\">32</span>, <span style=\"color: #00af00; text-decoration-color: #00af00\">32</span>, <span style=\"color: #00af00; text-decoration-color: #00af00\">192</span>)    │              <span style=\"color: #00af00; text-decoration-color: #00af00\">0</span> │ up_sampling2d_7[<span style=\"color: #00af00; text-decoration-color: #00af00\">0</span>][<span style=\"color: #00af00; text-decoration-color: #00af00\">0</span>], │\n",
       "│ (<span style=\"color: #0087ff; text-decoration-color: #0087ff\">Concatenate</span>)             │                        │                │ activation_15[<span style=\"color: #00af00; text-decoration-color: #00af00\">0</span>][<span style=\"color: #00af00; text-decoration-color: #00af00\">0</span>]    │\n",
       "├───────────────────────────┼────────────────────────┼────────────────┼────────────────────────┤\n",
       "│ conv2d_24 (<span style=\"color: #0087ff; text-decoration-color: #0087ff\">Conv2D</span>)        │ (<span style=\"color: #00d7ff; text-decoration-color: #00d7ff\">None</span>, <span style=\"color: #00af00; text-decoration-color: #00af00\">32</span>, <span style=\"color: #00af00; text-decoration-color: #00af00\">32</span>, <span style=\"color: #00af00; text-decoration-color: #00af00\">64</span>)     │         <span style=\"color: #00af00; text-decoration-color: #00af00\">73,792</span> │ concatenate_5[<span style=\"color: #00af00; text-decoration-color: #00af00\">0</span>][<span style=\"color: #00af00; text-decoration-color: #00af00\">0</span>]    │\n",
       "├───────────────────────────┼────────────────────────┼────────────────┼────────────────────────┤\n",
       "│ conv2d_32 (<span style=\"color: #0087ff; text-decoration-color: #0087ff\">Conv2D</span>)        │ (<span style=\"color: #00d7ff; text-decoration-color: #00d7ff\">None</span>, <span style=\"color: #00af00; text-decoration-color: #00af00\">32</span>, <span style=\"color: #00af00; text-decoration-color: #00af00\">32</span>, <span style=\"color: #00af00; text-decoration-color: #00af00\">64</span>)     │        <span style=\"color: #00af00; text-decoration-color: #00af00\">110,656</span> │ concatenate_7[<span style=\"color: #00af00; text-decoration-color: #00af00\">0</span>][<span style=\"color: #00af00; text-decoration-color: #00af00\">0</span>]    │\n",
       "├───────────────────────────┼────────────────────────┼────────────────┼────────────────────────┤\n",
       "│ batch_normalization_22    │ (<span style=\"color: #00d7ff; text-decoration-color: #00d7ff\">None</span>, <span style=\"color: #00af00; text-decoration-color: #00af00\">32</span>, <span style=\"color: #00af00; text-decoration-color: #00af00\">32</span>, <span style=\"color: #00af00; text-decoration-color: #00af00\">64</span>)     │            <span style=\"color: #00af00; text-decoration-color: #00af00\">256</span> │ conv2d_24[<span style=\"color: #00af00; text-decoration-color: #00af00\">0</span>][<span style=\"color: #00af00; text-decoration-color: #00af00\">0</span>]        │\n",
       "│ (<span style=\"color: #0087ff; text-decoration-color: #0087ff\">BatchNormalization</span>)      │                        │                │                        │\n",
       "├───────────────────────────┼────────────────────────┼────────────────┼────────────────────────┤\n",
       "│ batch_normalization_29    │ (<span style=\"color: #00d7ff; text-decoration-color: #00d7ff\">None</span>, <span style=\"color: #00af00; text-decoration-color: #00af00\">32</span>, <span style=\"color: #00af00; text-decoration-color: #00af00\">32</span>, <span style=\"color: #00af00; text-decoration-color: #00af00\">64</span>)     │            <span style=\"color: #00af00; text-decoration-color: #00af00\">256</span> │ conv2d_32[<span style=\"color: #00af00; text-decoration-color: #00af00\">0</span>][<span style=\"color: #00af00; text-decoration-color: #00af00\">0</span>]        │\n",
       "│ (<span style=\"color: #0087ff; text-decoration-color: #0087ff\">BatchNormalization</span>)      │                        │                │                        │\n",
       "├───────────────────────────┼────────────────────────┼────────────────┼────────────────────────┤\n",
       "│ activation_22             │ (<span style=\"color: #00d7ff; text-decoration-color: #00d7ff\">None</span>, <span style=\"color: #00af00; text-decoration-color: #00af00\">32</span>, <span style=\"color: #00af00; text-decoration-color: #00af00\">32</span>, <span style=\"color: #00af00; text-decoration-color: #00af00\">64</span>)     │              <span style=\"color: #00af00; text-decoration-color: #00af00\">0</span> │ batch_normalization_2… │\n",
       "│ (<span style=\"color: #0087ff; text-decoration-color: #0087ff\">Activation</span>)              │                        │                │                        │\n",
       "├───────────────────────────┼────────────────────────┼────────────────┼────────────────────────┤\n",
       "│ activation_29             │ (<span style=\"color: #00d7ff; text-decoration-color: #00d7ff\">None</span>, <span style=\"color: #00af00; text-decoration-color: #00af00\">32</span>, <span style=\"color: #00af00; text-decoration-color: #00af00\">32</span>, <span style=\"color: #00af00; text-decoration-color: #00af00\">64</span>)     │              <span style=\"color: #00af00; text-decoration-color: #00af00\">0</span> │ batch_normalization_2… │\n",
       "│ (<span style=\"color: #0087ff; text-decoration-color: #0087ff\">Activation</span>)              │                        │                │                        │\n",
       "├───────────────────────────┼────────────────────────┼────────────────┼────────────────────────┤\n",
       "│ conv2d_25 (<span style=\"color: #0087ff; text-decoration-color: #0087ff\">Conv2D</span>)        │ (<span style=\"color: #00d7ff; text-decoration-color: #00d7ff\">None</span>, <span style=\"color: #00af00; text-decoration-color: #00af00\">32</span>, <span style=\"color: #00af00; text-decoration-color: #00af00\">32</span>, <span style=\"color: #00af00; text-decoration-color: #00af00\">1</span>)      │            <span style=\"color: #00af00; text-decoration-color: #00af00\">577</span> │ activation_22[<span style=\"color: #00af00; text-decoration-color: #00af00\">0</span>][<span style=\"color: #00af00; text-decoration-color: #00af00\">0</span>]    │\n",
       "├───────────────────────────┼────────────────────────┼────────────────┼────────────────────────┤\n",
       "│ conv2d_33 (<span style=\"color: #0087ff; text-decoration-color: #0087ff\">Conv2D</span>)        │ (<span style=\"color: #00d7ff; text-decoration-color: #00d7ff\">None</span>, <span style=\"color: #00af00; text-decoration-color: #00af00\">32</span>, <span style=\"color: #00af00; text-decoration-color: #00af00\">32</span>, <span style=\"color: #00af00; text-decoration-color: #00af00\">1</span>)      │          <span style=\"color: #00af00; text-decoration-color: #00af00\">1,601</span> │ activation_29[<span style=\"color: #00af00; text-decoration-color: #00af00\">0</span>][<span style=\"color: #00af00; text-decoration-color: #00af00\">0</span>]    │\n",
       "├───────────────────────────┼────────────────────────┼────────────────┼────────────────────────┤\n",
       "│ reshape_4 (<span style=\"color: #0087ff; text-decoration-color: #0087ff\">Reshape</span>)       │ (<span style=\"color: #00d7ff; text-decoration-color: #00d7ff\">None</span>, <span style=\"color: #00af00; text-decoration-color: #00af00\">32</span>, <span style=\"color: #00af00; text-decoration-color: #00af00\">32</span>)         │              <span style=\"color: #00af00; text-decoration-color: #00af00\">0</span> │ conv2d_25[<span style=\"color: #00af00; text-decoration-color: #00af00\">0</span>][<span style=\"color: #00af00; text-decoration-color: #00af00\">0</span>]        │\n",
       "├───────────────────────────┼────────────────────────┼────────────────┼────────────────────────┤\n",
       "│ reshape_5 (<span style=\"color: #0087ff; text-decoration-color: #0087ff\">Reshape</span>)       │ (<span style=\"color: #00d7ff; text-decoration-color: #00d7ff\">None</span>, <span style=\"color: #00af00; text-decoration-color: #00af00\">32</span>, <span style=\"color: #00af00; text-decoration-color: #00af00\">32</span>)         │              <span style=\"color: #00af00; text-decoration-color: #00af00\">0</span> │ conv2d_33[<span style=\"color: #00af00; text-decoration-color: #00af00\">0</span>][<span style=\"color: #00af00; text-decoration-color: #00af00\">0</span>]        │\n",
       "└───────────────────────────┴────────────────────────┴────────────────┴────────────────────────┘\n",
       "</pre>\n"
      ]
     },
     "metadata": {}
    },
    {
     "output_type": "display_data",
     "data": {
      "text/plain": [
       "\u001B[1m Total params: \u001B[0m\u001B[38;5;34m3,590,146\u001B[0m (13.70 MB)\n"
      ],
      "text/html": [
       "<pre style=\"white-space:pre;overflow-x:auto;line-height:normal;font-family:Menlo,'DejaVu Sans Mono',consolas,'Courier New',monospace\"><span style=\"font-weight: bold\"> Total params: </span><span style=\"color: #00af00; text-decoration-color: #00af00\">3,590,146</span> (13.70 MB)\n",
       "</pre>\n"
      ]
     },
     "metadata": {}
    },
    {
     "output_type": "display_data",
     "data": {
      "text/plain": [
       "\u001B[1m Trainable params: \u001B[0m\u001B[38;5;34m3,585,922\u001B[0m (13.68 MB)\n"
      ],
      "text/html": [
       "<pre style=\"white-space:pre;overflow-x:auto;line-height:normal;font-family:Menlo,'DejaVu Sans Mono',consolas,'Courier New',monospace\"><span style=\"font-weight: bold\"> Trainable params: </span><span style=\"color: #00af00; text-decoration-color: #00af00\">3,585,922</span> (13.68 MB)\n",
       "</pre>\n"
      ]
     },
     "metadata": {}
    },
    {
     "output_type": "display_data",
     "data": {
      "text/plain": [
       "\u001B[1m Non-trainable params: \u001B[0m\u001B[38;5;34m4,224\u001B[0m (16.50 KB)\n"
      ],
      "text/html": [
       "<pre style=\"white-space:pre;overflow-x:auto;line-height:normal;font-family:Menlo,'DejaVu Sans Mono',consolas,'Courier New',monospace\"><span style=\"font-weight: bold\"> Non-trainable params: </span><span style=\"color: #00af00; text-decoration-color: #00af00\">4,224</span> (16.50 KB)\n",
       "</pre>\n"
      ]
     },
     "metadata": {}
    },
    {
     "output_type": "stream",
     "name": "stdout",
     "text": [
      "Epoch 1/100\n",
      "\u001B[1m10000/10000\u001B[0m \u001B[32m━━━━━━━━━━━━━━━━━━━━\u001B[0m\u001B[37m\u001B[0m \u001B[1m197s\u001B[0m 18ms/step - loss: 0.0066 - reshape_4_loss: 0.0028 - reshape_5_loss: 0.0032 - val_loss: 0.0021 - val_reshape_4_loss: 8.9856e-04 - val_reshape_5_loss: 0.0010 - learning_rate: 0.0010\n",
      "Epoch 2/100\n",
      "\u001B[1m10000/10000\u001B[0m \u001B[32m━━━━━━━━━━━━━━━━━━━━\u001B[0m\u001B[37m\u001B[0m \u001B[1m177s\u001B[0m 18ms/step - loss: 0.0020 - reshape_4_loss: 8.4366e-04 - reshape_5_loss: 9.7460e-04 - val_loss: 0.0016 - val_reshape_4_loss: 7.0850e-04 - val_reshape_5_loss: 7.5237e-04 - learning_rate: 0.0010\n",
      "Epoch 3/100\n",
      "\u001B[1m10000/10000\u001B[0m \u001B[32m━━━━━━━━━━━━━━━━━━━━\u001B[0m\u001B[37m\u001B[0m \u001B[1m176s\u001B[0m 18ms/step - loss: 0.0016 - reshape_4_loss: 6.9419e-04 - reshape_5_loss: 7.6459e-04 - val_loss: 0.0014 - val_reshape_4_loss: 6.3538e-04 - val_reshape_5_loss: 6.7507e-04 - learning_rate: 0.0010\n",
      "Epoch 4/100\n",
      "\u001B[1m10000/10000\u001B[0m \u001B[32m━━━━━━━━━━━━━━━━━━━━\u001B[0m\u001B[37m\u001B[0m \u001B[1m176s\u001B[0m 18ms/step - loss: 0.0014 - reshape_4_loss: 6.2428e-04 - reshape_5_loss: 6.6662e-04 - val_loss: 0.0014 - val_reshape_4_loss: 6.1814e-04 - val_reshape_5_loss: 6.1293e-04 - learning_rate: 0.0010\n",
      "Epoch 5/100\n",
      "\u001B[1m10000/10000\u001B[0m \u001B[32m━━━━━━━━━━━━━━━━━━━━\u001B[0m\u001B[37m\u001B[0m \u001B[1m175s\u001B[0m 17ms/step - loss: 0.0013 - reshape_4_loss: 5.8643e-04 - reshape_5_loss: 6.1853e-04 - val_loss: 0.0013 - val_reshape_4_loss: 5.7363e-04 - val_reshape_5_loss: 6.0730e-04 - learning_rate: 0.0010\n",
      "Epoch 6/100\n",
      "\u001B[1m10000/10000\u001B[0m \u001B[32m━━━━━━━━━━━━━━━━━━━━\u001B[0m\u001B[37m\u001B[0m \u001B[1m175s\u001B[0m 18ms/step - loss: 0.0013 - reshape_4_loss: 5.6248e-04 - reshape_5_loss: 5.8375e-04 - val_loss: 0.0012 - val_reshape_4_loss: 5.4801e-04 - val_reshape_5_loss: 5.7791e-04 - learning_rate: 0.0010\n",
      "Epoch 7/100\n",
      "\u001B[1m10000/10000\u001B[0m \u001B[32m━━━━━━━━━━━━━━━━━━━━\u001B[0m\u001B[37m\u001B[0m \u001B[1m175s\u001B[0m 17ms/step - loss: 0.0012 - reshape_4_loss: 5.4256e-04 - reshape_5_loss: 5.5762e-04 - val_loss: 0.0012 - val_reshape_4_loss: 5.4293e-04 - val_reshape_5_loss: 5.2490e-04 - learning_rate: 0.0010\n",
      "Epoch 8/100\n",
      "\u001B[1m10000/10000\u001B[0m \u001B[32m━━━━━━━━━━━━━━━━━━━━\u001B[0m\u001B[37m\u001B[0m \u001B[1m175s\u001B[0m 17ms/step - loss: 0.0012 - reshape_4_loss: 5.2525e-04 - reshape_5_loss: 5.3685e-04 - val_loss: 0.0011 - val_reshape_4_loss: 5.2306e-04 - val_reshape_5_loss: 5.1980e-04 - learning_rate: 0.0010\n",
      "Epoch 9/100\n",
      "\u001B[1m10000/10000\u001B[0m \u001B[32m━━━━━━━━━━━━━━━━━━━━\u001B[0m\u001B[37m\u001B[0m \u001B[1m175s\u001B[0m 18ms/step - loss: 0.0011 - reshape_4_loss: 5.1752e-04 - reshape_5_loss: 5.2459e-04 - val_loss: 0.0011 - val_reshape_4_loss: 5.0972e-04 - val_reshape_5_loss: 5.0338e-04 - learning_rate: 0.0010\n",
      "Epoch 10/100\n",
      "\u001B[1m10000/10000\u001B[0m \u001B[32m━━━━━━━━━━━━━━━━━━━━\u001B[0m\u001B[37m\u001B[0m \u001B[1m176s\u001B[0m 18ms/step - loss: 0.0011 - reshape_4_loss: 5.0593e-04 - reshape_5_loss: 5.1009e-04 - val_loss: 0.0011 - val_reshape_4_loss: 5.0610e-04 - val_reshape_5_loss: 4.9979e-04 - learning_rate: 0.0010\n",
      "Epoch 11/100\n",
      "\u001B[1m10000/10000\u001B[0m \u001B[32m━━━━━━━━━━━━━━━━━━━━\u001B[0m\u001B[37m\u001B[0m \u001B[1m176s\u001B[0m 18ms/step - loss: 0.0011 - reshape_4_loss: 4.9821e-04 - reshape_5_loss: 5.0003e-04 - val_loss: 0.0011 - val_reshape_4_loss: 5.0219e-04 - val_reshape_5_loss: 4.8821e-04 - learning_rate: 0.0010\n",
      "Epoch 12/100\n",
      "\u001B[1m10000/10000\u001B[0m \u001B[32m━━━━━━━━━━━━━━━━━━━━\u001B[0m\u001B[37m\u001B[0m \u001B[1m176s\u001B[0m 18ms/step - loss: 0.0011 - reshape_4_loss: 4.8718e-04 - reshape_5_loss: 4.8617e-04 - val_loss: 0.0011 - val_reshape_4_loss: 4.9078e-04 - val_reshape_5_loss: 4.8426e-04 - learning_rate: 0.0010\n",
      "Epoch 13/100\n",
      "\u001B[1m10000/10000\u001B[0m \u001B[32m━━━━━━━━━━━━━━━━━━━━\u001B[0m\u001B[37m\u001B[0m \u001B[1m176s\u001B[0m 18ms/step - loss: 0.0011 - reshape_4_loss: 4.8497e-04 - reshape_5_loss: 4.8374e-04 - val_loss: 0.0011 - val_reshape_4_loss: 4.8751e-04 - val_reshape_5_loss: 4.7821e-04 - learning_rate: 0.0010\n",
      "Epoch 14/100\n",
      "\u001B[1m10000/10000\u001B[0m \u001B[32m━━━━━━━━━━━━━━━━━━━━\u001B[0m\u001B[37m\u001B[0m \u001B[1m176s\u001B[0m 18ms/step - loss: 0.0011 - reshape_4_loss: 4.7977e-04 - reshape_5_loss: 4.7694e-04 - val_loss: 0.0011 - val_reshape_4_loss: 5.0554e-04 - val_reshape_5_loss: 5.0020e-04 - learning_rate: 0.0010\n",
      "Epoch 15/100\n",
      "\u001B[1m10000/10000\u001B[0m \u001B[32m━━━━━━━━━━━━━━━━━━━━\u001B[0m\u001B[37m\u001B[0m \u001B[1m176s\u001B[0m 18ms/step - loss: 0.0010 - reshape_4_loss: 4.7752e-04 - reshape_5_loss: 4.7247e-04 - val_loss: 0.0010 - val_reshape_4_loss: 4.7736e-04 - val_reshape_5_loss: 4.6223e-04 - learning_rate: 0.0010\n",
      "Epoch 16/100\n",
      "\u001B[1m10000/10000\u001B[0m \u001B[32m━━━━━━━━━━━━━━━━━━━━\u001B[0m\u001B[37m\u001B[0m \u001B[1m176s\u001B[0m 18ms/step - loss: 0.0010 - reshape_4_loss: 4.6776e-04 - reshape_5_loss: 4.6261e-04 - val_loss: 0.0011 - val_reshape_4_loss: 4.7321e-04 - val_reshape_5_loss: 4.9146e-04 - learning_rate: 0.0010\n",
      "Epoch 17/100\n",
      "\u001B[1m10000/10000\u001B[0m \u001B[32m━━━━━━━━━━━━━━━━━━━━\u001B[0m\u001B[37m\u001B[0m \u001B[1m0s\u001B[0m 14ms/step - loss: 0.0010 - reshape_4_loss: 4.6313e-04 - reshape_5_loss: 4.5617e-04\n",
      "Epoch 17: ReduceLROnPlateau reducing learning rate to 0.0005000000237487257.\n",
      "\u001B[1m10000/10000\u001B[0m \u001B[32m━━━━━━━━━━━━━━━━━━━━\u001B[0m\u001B[37m\u001B[0m \u001B[1m176s\u001B[0m 18ms/step - loss: 0.0010 - reshape_4_loss: 4.6313e-04 - reshape_5_loss: 4.5617e-04 - val_loss: 0.0010 - val_reshape_4_loss: 4.6841e-04 - val_reshape_5_loss: 4.5125e-04 - learning_rate: 0.0010\n",
      "Epoch 18/100\n",
      "\u001B[1m10000/10000\u001B[0m \u001B[32m━━━━━━━━━━━━━━━━━━━━\u001B[0m\u001B[37m\u001B[0m \u001B[1m176s\u001B[0m 18ms/step - loss: 9.6777e-04 - reshape_4_loss: 4.4662e-04 - reshape_5_loss: 4.3430e-04 - val_loss: 9.6361e-04 - val_reshape_4_loss: 4.4871e-04 - val_reshape_5_loss: 4.2908e-04 - learning_rate: 5.0000e-04\n",
      "Epoch 19/100\n",
      "\u001B[1m10000/10000\u001B[0m \u001B[32m━━━━━━━━━━━━━━━━━━━━\u001B[0m\u001B[37m\u001B[0m \u001B[1m176s\u001B[0m 18ms/step - loss: 9.4645e-04 - reshape_4_loss: 4.3685e-04 - reshape_5_loss: 4.2467e-04 - val_loss: 9.6273e-04 - val_reshape_4_loss: 4.4694e-04 - val_reshape_5_loss: 4.2983e-04 - learning_rate: 5.0000e-04\n",
      "Epoch 20/100\n",
      "\u001B[1m10000/10000\u001B[0m \u001B[32m━━━━━━━━━━━━━━━━━━━━\u001B[0m\u001B[37m\u001B[0m \u001B[1m176s\u001B[0m 18ms/step - loss: 9.4280e-04 - reshape_4_loss: 4.3593e-04 - reshape_5_loss: 4.2239e-04 - val_loss: 9.5372e-04 - val_reshape_4_loss: 4.4314e-04 - val_reshape_5_loss: 4.2549e-04 - learning_rate: 5.0000e-04\n",
      "Epoch 21/100\n",
      "\u001B[1m10000/10000\u001B[0m \u001B[32m━━━━━━━━━━━━━━━━━━━━\u001B[0m\u001B[37m\u001B[0m \u001B[1m176s\u001B[0m 18ms/step - loss: 9.4126e-04 - reshape_4_loss: 4.3547e-04 - reshape_5_loss: 4.2149e-04 - val_loss: 9.8865e-04 - val_reshape_4_loss: 4.4651e-04 - val_reshape_5_loss: 4.5178e-04 - learning_rate: 5.0000e-04\n",
      "Epoch 22/100\n",
      "\u001B[1m10000/10000\u001B[0m \u001B[32m━━━━━━━━━━━━━━━━━━━━\u001B[0m\u001B[37m\u001B[0m \u001B[1m176s\u001B[0m 18ms/step - loss: 9.3191e-04 - reshape_4_loss: 4.3136e-04 - reshape_5_loss: 4.1713e-04 - val_loss: 9.4967e-04 - val_reshape_4_loss: 4.3933e-04 - val_reshape_5_loss: 4.2529e-04 - learning_rate: 5.0000e-04\n",
      "Epoch 23/100\n",
      "\u001B[1m 9997/10000\u001B[0m \u001B[32m━━━━━━━━━━━━━━━━━━━\u001B[0m\u001B[37m━\u001B[0m \u001B[1m0s\u001B[0m 14ms/step - loss: 9.2520e-04 - reshape_4_loss: 4.2850e-04 - reshape_5_loss: 4.1392e-04\n",
      "Epoch 23: ReduceLROnPlateau reducing learning rate to 0.0002500000118743628.\n",
      "\u001B[1m10000/10000\u001B[0m \u001B[32m━━━━━━━━━━━━━━━━━━━━\u001B[0m\u001B[37m\u001B[0m \u001B[1m176s\u001B[0m 18ms/step - loss: 9.2520e-04 - reshape_4_loss: 4.2850e-04 - reshape_5_loss: 4.1392e-04 - val_loss: 9.4227e-04 - val_reshape_4_loss: 4.3972e-04 - val_reshape_5_loss: 4.1879e-04 - learning_rate: 5.0000e-04\n",
      "Epoch 24/100\n",
      "\u001B[1m10000/10000\u001B[0m \u001B[32m━━━━━━━━━━━━━━━━━━━━\u001B[0m\u001B[37m\u001B[0m \u001B[1m176s\u001B[0m 18ms/step - loss: 9.0912e-04 - reshape_4_loss: 4.2250e-04 - reshape_5_loss: 4.0552e-04 - val_loss: 9.3521e-04 - val_reshape_4_loss: 4.2927e-04 - val_reshape_5_loss: 4.2162e-04 - learning_rate: 2.5000e-04\n",
      "Epoch 25/100\n",
      "\u001B[1m10000/10000\u001B[0m \u001B[32m━━━━━━━━━━━━━━━━━━━━\u001B[0m\u001B[37m\u001B[0m \u001B[1m176s\u001B[0m 18ms/step - loss: 9.0294e-04 - reshape_4_loss: 4.1984e-04 - reshape_5_loss: 4.0258e-04 - val_loss: 9.2799e-04 - val_reshape_4_loss: 4.2781e-04 - val_reshape_5_loss: 4.1682e-04 - learning_rate: 2.5000e-04\n",
      "Epoch 26/100\n",
      "\u001B[1m10000/10000\u001B[0m \u001B[32m━━━━━━━━━━━━━━━━━━━━\u001B[0m\u001B[37m\u001B[0m \u001B[1m176s\u001B[0m 18ms/step - loss: 8.9993e-04 - reshape_4_loss: 4.1828e-04 - reshape_5_loss: 4.0138e-04 - val_loss: 9.1802e-04 - val_reshape_4_loss: 4.2705e-04 - val_reshape_5_loss: 4.0914e-04 - learning_rate: 2.5000e-04\n",
      "Epoch 27/100\n",
      "\u001B[1m10000/10000\u001B[0m \u001B[32m━━━━━━━━━━━━━━━━━━━━\u001B[0m\u001B[37m\u001B[0m \u001B[1m176s\u001B[0m 18ms/step - loss: 8.9584e-04 - reshape_4_loss: 4.1712e-04 - reshape_5_loss: 3.9893e-04 - val_loss: 9.1487e-04 - val_reshape_4_loss: 4.2483e-04 - val_reshape_5_loss: 4.0836e-04 - learning_rate: 2.5000e-04\n",
      "Epoch 28/100\n",
      "\u001B[1m 9997/10000\u001B[0m \u001B[32m━━━━━━━━━━━━━━━━━━━\u001B[0m\u001B[37m━\u001B[0m \u001B[1m0s\u001B[0m 14ms/step - loss: 8.9342e-04 - reshape_4_loss: 4.1594e-04 - reshape_5_loss: 3.9790e-04\n",
      "Epoch 28: ReduceLROnPlateau reducing learning rate to 0.0001250000059371814.\n",
      "\u001B[1m10000/10000\u001B[0m \u001B[32m━━━━━━━━━━━━━━━━━━━━\u001B[0m\u001B[37m\u001B[0m \u001B[1m176s\u001B[0m 18ms/step - loss: 8.9342e-04 - reshape_4_loss: 4.1594e-04 - reshape_5_loss: 3.9790e-04 - val_loss: 9.1492e-04 - val_reshape_4_loss: 4.2648e-04 - val_reshape_5_loss: 4.0703e-04 - learning_rate: 2.5000e-04\n",
      "Epoch 29/100\n",
      "\u001B[1m10000/10000\u001B[0m \u001B[32m━━━━━━━━━━━━━━━━━━━━\u001B[0m\u001B[37m\u001B[0m \u001B[1m176s\u001B[0m 18ms/step - loss: 8.8273e-04 - reshape_4_loss: 4.1142e-04 - reshape_5_loss: 3.9276e-04 - val_loss: 8.9364e-04 - val_reshape_4_loss: 4.1785e-04 - val_reshape_5_loss: 3.9649e-04 - learning_rate: 1.2500e-04\n",
      "Epoch 30/100\n",
      "\u001B[1m10000/10000\u001B[0m \u001B[32m━━━━━━━━━━━━━━━━━━━━\u001B[0m\u001B[37m\u001B[0m \u001B[1m176s\u001B[0m 18ms/step - loss: 8.8084e-04 - reshape_4_loss: 4.1098e-04 - reshape_5_loss: 3.9154e-04 - val_loss: 8.9668e-04 - val_reshape_4_loss: 4.1885e-04 - val_reshape_5_loss: 3.9820e-04 - learning_rate: 1.2500e-04\n",
      "Epoch 31/100\n",
      "\u001B[1m10000/10000\u001B[0m \u001B[32m━━━━━━━━━━━━━━━━━━━━\u001B[0m\u001B[37m\u001B[0m \u001B[1m176s\u001B[0m 18ms/step - loss: 8.7582e-04 - reshape_4_loss: 4.0860e-04 - reshape_5_loss: 3.8935e-04 - val_loss: 8.9162e-04 - val_reshape_4_loss: 4.1670e-04 - val_reshape_5_loss: 3.9577e-04 - learning_rate: 1.2500e-04\n",
      "Epoch 32/100\n",
      "\u001B[1m10000/10000\u001B[0m \u001B[32m━━━━━━━━━━━━━━━━━━━━\u001B[0m\u001B[37m\u001B[0m \u001B[1m176s\u001B[0m 18ms/step - loss: 8.7842e-04 - reshape_4_loss: 4.1023e-04 - reshape_5_loss: 3.9016e-04 - val_loss: 8.9832e-04 - val_reshape_4_loss: 4.1928e-04 - val_reshape_5_loss: 3.9920e-04 - learning_rate: 1.2500e-04\n",
      "Epoch 33/100\n",
      "\u001B[1m 9997/10000\u001B[0m \u001B[32m━━━━━━━━━━━━━━━━━━━\u001B[0m\u001B[37m━\u001B[0m \u001B[1m0s\u001B[0m 14ms/step - loss: 8.7875e-04 - reshape_4_loss: 4.1004e-04 - reshape_5_loss: 3.9060e-04\n",
      "Epoch 33: ReduceLROnPlateau reducing learning rate to 6.25000029685907e-05.\n",
      "\u001B[1m10000/10000\u001B[0m \u001B[32m━━━━━━━━━━━━━━━━━━━━\u001B[0m\u001B[37m\u001B[0m \u001B[1m176s\u001B[0m 18ms/step - loss: 8.7875e-04 - reshape_4_loss: 4.1004e-04 - reshape_5_loss: 3.9060e-04 - val_loss: 8.9889e-04 - val_reshape_4_loss: 4.1660e-04 - val_reshape_5_loss: 4.0191e-04 - learning_rate: 1.2500e-04\n",
      "Epoch 34/100\n",
      "\u001B[1m10000/10000\u001B[0m \u001B[32m━━━━━━━━━━━━━━━━━━━━\u001B[0m\u001B[37m\u001B[0m \u001B[1m176s\u001B[0m 18ms/step - loss: 8.6997e-04 - reshape_4_loss: 4.0628e-04 - reshape_5_loss: 3.8640e-04 - val_loss: 9.0133e-04 - val_reshape_4_loss: 4.1714e-04 - val_reshape_5_loss: 4.0349e-04 - learning_rate: 6.2500e-05\n",
      "Epoch 35/100\n",
      "\u001B[1m10000/10000\u001B[0m \u001B[32m━━━━━━━━━━━━━━━━━━━━\u001B[0m\u001B[37m\u001B[0m \u001B[1m176s\u001B[0m 18ms/step - loss: 8.6788e-04 - reshape_4_loss: 4.0529e-04 - reshape_5_loss: 3.8549e-04 - val_loss: 8.9580e-04 - val_reshape_4_loss: 4.1832e-04 - val_reshape_5_loss: 3.9790e-04 - learning_rate: 6.2500e-05\n",
      "Epoch 36/100\n",
      "\u001B[1m10000/10000\u001B[0m \u001B[32m━━━━━━━━━━━━━━━━━━━━\u001B[0m\u001B[37m\u001B[0m \u001B[1m176s\u001B[0m 18ms/step - loss: 8.6631e-04 - reshape_4_loss: 4.0490e-04 - reshape_5_loss: 3.8450e-04 - val_loss: 8.9085e-04 - val_reshape_4_loss: 4.1530e-04 - val_reshape_5_loss: 3.9629e-04 - learning_rate: 6.2500e-05\n",
      "Epoch 37/100\n",
      "\u001B[1m10000/10000\u001B[0m \u001B[32m━━━━━━━━━━━━━━━━━━━━\u001B[0m\u001B[37m\u001B[0m \u001B[1m176s\u001B[0m 18ms/step - loss: 8.7083e-04 - reshape_4_loss: 4.0666e-04 - reshape_5_loss: 3.8681e-04 - val_loss: 8.8936e-04 - val_reshape_4_loss: 4.1584e-04 - val_reshape_5_loss: 3.9460e-04 - learning_rate: 6.2500e-05\n",
      "Epoch 38/100\n",
      "\u001B[1m 9997/10000\u001B[0m \u001B[32m━━━━━━━━━━━━━━━━━━━\u001B[0m\u001B[37m━\u001B[0m \u001B[1m0s\u001B[0m 14ms/step - loss: 8.6341e-04 - reshape_4_loss: 4.0372e-04 - reshape_5_loss: 3.8308e-04\n",
      "Epoch 38: ReduceLROnPlateau reducing learning rate to 3.125000148429535e-05.\n",
      "\u001B[1m10000/10000\u001B[0m \u001B[32m━━━━━━━━━━━━━━━━━━━━\u001B[0m\u001B[37m\u001B[0m \u001B[1m176s\u001B[0m 18ms/step - loss: 8.6341e-04 - reshape_4_loss: 4.0372e-04 - reshape_5_loss: 3.8308e-04 - val_loss: 8.8689e-04 - val_reshape_4_loss: 4.1374e-04 - val_reshape_5_loss: 3.9430e-04 - learning_rate: 6.2500e-05\n",
      "Epoch 39/100\n",
      "\u001B[1m10000/10000\u001B[0m \u001B[32m━━━━━━━━━━━━━━━━━━━━\u001B[0m\u001B[37m\u001B[0m \u001B[1m176s\u001B[0m 18ms/step - loss: 8.6862e-04 - reshape_4_loss: 4.0600e-04 - reshape_5_loss: 3.8551e-04 - val_loss: 8.8532e-04 - val_reshape_4_loss: 4.1374e-04 - val_reshape_5_loss: 3.9298e-04 - learning_rate: 3.1250e-05\n",
      "Epoch 40/100\n",
      "\u001B[1m10000/10000\u001B[0m \u001B[32m━━━━━━━━━━━━━━━━━━━━\u001B[0m\u001B[37m\u001B[0m \u001B[1m177s\u001B[0m 18ms/step - loss: 8.6471e-04 - reshape_4_loss: 4.0387e-04 - reshape_5_loss: 3.8404e-04 - val_loss: 8.8386e-04 - val_reshape_4_loss: 4.1353e-04 - val_reshape_5_loss: 3.9194e-04 - learning_rate: 3.1250e-05\n",
      "Epoch 41/100\n",
      "\u001B[1m10000/10000\u001B[0m \u001B[32m━━━━━━━━━━━━━━━━━━━━\u001B[0m\u001B[37m\u001B[0m \u001B[1m177s\u001B[0m 18ms/step - loss: 8.6108e-04 - reshape_4_loss: 4.0289e-04 - reshape_5_loss: 3.8183e-04 - val_loss: 8.8602e-04 - val_reshape_4_loss: 4.1354e-04 - val_reshape_5_loss: 3.9373e-04 - learning_rate: 3.1250e-05\n",
      "Epoch 42/100\n",
      "\u001B[1m10000/10000\u001B[0m \u001B[32m━━━━━━━━━━━━━━━━━━━━\u001B[0m\u001B[37m\u001B[0m \u001B[1m176s\u001B[0m 18ms/step - loss: 8.6337e-04 - reshape_4_loss: 4.0390e-04 - reshape_5_loss: 3.8290e-04 - val_loss: 8.8496e-04 - val_reshape_4_loss: 4.1317e-04 - val_reshape_5_loss: 3.9315e-04 - learning_rate: 3.1250e-05\n",
      "Epoch 43/100\n",
      "\u001B[1m 9997/10000\u001B[0m \u001B[32m━━━━━━━━━━━━━━━━━━━\u001B[0m\u001B[37m━\u001B[0m \u001B[1m0s\u001B[0m 14ms/step - loss: 8.6262e-04 - reshape_4_loss: 4.0342e-04 - reshape_5_loss: 3.8267e-04\n",
      "Epoch 43: ReduceLROnPlateau reducing learning rate to 1.5625000742147677e-05.\n",
      "\u001B[1m10000/10000\u001B[0m \u001B[32m━━━━━━━━━━━━━━━━━━━━\u001B[0m\u001B[37m\u001B[0m \u001B[1m176s\u001B[0m 18ms/step - loss: 8.6262e-04 - reshape_4_loss: 4.0342e-04 - reshape_5_loss: 3.8267e-04 - val_loss: 8.8131e-04 - val_reshape_4_loss: 4.1223e-04 - val_reshape_5_loss: 3.9090e-04 - learning_rate: 3.1250e-05\n",
      "Epoch 44/100\n",
      "\u001B[1m10000/10000\u001B[0m \u001B[32m━━━━━━━━━━━━━━━━━━━━\u001B[0m\u001B[37m\u001B[0m \u001B[1m176s\u001B[0m 18ms/step - loss: 8.6235e-04 - reshape_4_loss: 4.0343e-04 - reshape_5_loss: 3.8243e-04 - val_loss: 8.8501e-04 - val_reshape_4_loss: 4.1246e-04 - val_reshape_5_loss: 3.9379e-04 - learning_rate: 1.5625e-05\n",
      "Epoch 45/100\n",
      "\u001B[1m10000/10000\u001B[0m \u001B[32m━━━━━━━━━━━━━━━━━━━━\u001B[0m\u001B[37m\u001B[0m \u001B[1m181s\u001B[0m 18ms/step - loss: 8.6320e-04 - reshape_4_loss: 4.0332e-04 - reshape_5_loss: 3.8323e-04 - val_loss: 8.8503e-04 - val_reshape_4_loss: 4.1338e-04 - val_reshape_5_loss: 3.9304e-04 - learning_rate: 1.5625e-05\n",
      "Epoch 46/100\n",
      "\u001B[1m10000/10000\u001B[0m \u001B[32m━━━━━━━━━━━━━━━━━━━━\u001B[0m\u001B[37m\u001B[0m \u001B[1m177s\u001B[0m 18ms/step - loss: 8.6381e-04 - reshape_4_loss: 4.0402e-04 - reshape_5_loss: 3.8316e-04 - val_loss: 8.8268e-04 - val_reshape_4_loss: 4.1265e-04 - val_reshape_5_loss: 3.9170e-04 - learning_rate: 1.5625e-05\n",
      "Epoch 47/100\n",
      "\u001B[1m10000/10000\u001B[0m \u001B[32m━━━━━━━━━━━━━━━━━━━━\u001B[0m\u001B[37m\u001B[0m \u001B[1m176s\u001B[0m 18ms/step - loss: 8.5961e-04 - reshape_4_loss: 4.0226e-04 - reshape_5_loss: 3.8112e-04 - val_loss: 8.7806e-04 - val_reshape_4_loss: 4.1054e-04 - val_reshape_5_loss: 3.8960e-04 - learning_rate: 1.5625e-05\n",
      "Epoch 48/100\n",
      "\u001B[1m 9997/10000\u001B[0m \u001B[32m━━━━━━━━━━━━━━━━━━━\u001B[0m\u001B[37m━\u001B[0m \u001B[1m0s\u001B[0m 15ms/step - loss: 8.5955e-04 - reshape_4_loss: 4.0210e-04 - reshape_5_loss: 3.8121e-04\n",
      "Epoch 48: ReduceLROnPlateau reducing learning rate to 7.812500371073838e-06.\n",
      "\u001B[1m10000/10000\u001B[0m \u001B[32m━━━━━━━━━━━━━━━━━━━━\u001B[0m\u001B[37m\u001B[0m \u001B[1m177s\u001B[0m 18ms/step - loss: 8.5955e-04 - reshape_4_loss: 4.0210e-04 - reshape_5_loss: 3.8121e-04 - val_loss: 8.8214e-04 - val_reshape_4_loss: 4.1207e-04 - val_reshape_5_loss: 3.9173e-04 - learning_rate: 1.5625e-05\n",
      "Epoch 49/100\n",
      "\u001B[1m10000/10000\u001B[0m \u001B[32m━━━━━━━━━━━━━━━━━━━━\u001B[0m\u001B[37m\u001B[0m \u001B[1m181s\u001B[0m 18ms/step - loss: 8.6304e-04 - reshape_4_loss: 4.0362e-04 - reshape_5_loss: 3.8285e-04 - val_loss: 8.8224e-04 - val_reshape_4_loss: 4.1250e-04 - val_reshape_5_loss: 3.9145e-04 - learning_rate: 7.8125e-06\n",
      "Epoch 50/100\n",
      "\u001B[1m10000/10000\u001B[0m \u001B[32m━━━━━━━━━━━━━━━━━━━━\u001B[0m\u001B[37m\u001B[0m \u001B[1m177s\u001B[0m 18ms/step - loss: 8.5832e-04 - reshape_4_loss: 4.0155e-04 - reshape_5_loss: 3.8064e-04 - val_loss: 8.7948e-04 - val_reshape_4_loss: 4.1113e-04 - val_reshape_5_loss: 3.9029e-04 - learning_rate: 7.8125e-06\n",
      "Epoch 51/100\n",
      "\u001B[1m10000/10000\u001B[0m \u001B[32m━━━━━━━━━━━━━━━━━━━━\u001B[0m\u001B[37m\u001B[0m \u001B[1m175s\u001B[0m 18ms/step - loss: 8.5915e-04 - reshape_4_loss: 4.0191e-04 - reshape_5_loss: 3.8104e-04 - val_loss: 8.8300e-04 - val_reshape_4_loss: 4.1252e-04 - val_reshape_5_loss: 3.9207e-04 - learning_rate: 7.8125e-06\n",
      "Epoch 52/100\n",
      "\u001B[1m10000/10000\u001B[0m \u001B[32m━━━━━━━━━━━━━━━━━━━━\u001B[0m\u001B[37m\u001B[0m \u001B[1m176s\u001B[0m 18ms/step - loss: 8.6299e-04 - reshape_4_loss: 4.0368e-04 - reshape_5_loss: 3.8276e-04 - val_loss: 8.7930e-04 - val_reshape_4_loss: 4.1110e-04 - val_reshape_5_loss: 3.9017e-04 - learning_rate: 7.8125e-06\n",
      "Epoch 53/100\n",
      "\u001B[1m 9997/10000\u001B[0m \u001B[32m━━━━━━━━━━━━━━━━━━━\u001B[0m\u001B[37m━\u001B[0m \u001B[1m0s\u001B[0m 14ms/step - loss: 8.5544e-04 - reshape_4_loss: 4.0020e-04 - reshape_5_loss: 3.7937e-04\n",
      "Epoch 53: ReduceLROnPlateau reducing learning rate to 3.906250185536919e-06.\n",
      "\u001B[1m10000/10000\u001B[0m \u001B[32m━━━━━━━━━━━━━━━━━━━━\u001B[0m\u001B[37m\u001B[0m \u001B[1m176s\u001B[0m 18ms/step - loss: 8.5544e-04 - reshape_4_loss: 4.0020e-04 - reshape_5_loss: 3.7937e-04 - val_loss: 8.7932e-04 - val_reshape_4_loss: 4.1106e-04 - val_reshape_5_loss: 3.9022e-04 - learning_rate: 7.8125e-06\n",
      "Epoch 54/100\n",
      "\u001B[1m10000/10000\u001B[0m \u001B[32m━━━━━━━━━━━━━━━━━━━━\u001B[0m\u001B[37m\u001B[0m \u001B[1m176s\u001B[0m 18ms/step - loss: 8.5908e-04 - reshape_4_loss: 4.0203e-04 - reshape_5_loss: 3.8087e-04 - val_loss: 8.8374e-04 - val_reshape_4_loss: 4.1307e-04 - val_reshape_5_loss: 3.9222e-04 - learning_rate: 3.9063e-06\n",
      "Epoch 55/100\n",
      "\u001B[1m10000/10000\u001B[0m \u001B[32m━━━━━━━━━━━━━━━━━━━━\u001B[0m\u001B[37m\u001B[0m \u001B[1m176s\u001B[0m 18ms/step - loss: 8.6098e-04 - reshape_4_loss: 4.0283e-04 - reshape_5_loss: 3.8179e-04 - val_loss: 8.8372e-04 - val_reshape_4_loss: 4.1222e-04 - val_reshape_5_loss: 3.9292e-04 - learning_rate: 3.9063e-06\n",
      "Epoch 56/100\n",
      "\u001B[1m10000/10000\u001B[0m \u001B[32m━━━━━━━━━━━━━━━━━━━━\u001B[0m\u001B[37m\u001B[0m \u001B[1m174s\u001B[0m 17ms/step - loss: 8.6209e-04 - reshape_4_loss: 4.0353e-04 - reshape_5_loss: 3.8214e-04 - val_loss: 8.7932e-04 - val_reshape_4_loss: 4.1105e-04 - val_reshape_5_loss: 3.9023e-04 - learning_rate: 3.9063e-06\n",
      "Epoch 57/100\n",
      "\u001B[1m10000/10000\u001B[0m \u001B[32m━━━━━━━━━━━━━━━━━━━━\u001B[0m\u001B[37m\u001B[0m \u001B[1m174s\u001B[0m 17ms/step - loss: 8.6428e-04 - reshape_4_loss: 4.0411e-04 - reshape_5_loss: 3.8348e-04 - val_loss: 8.7688e-04 - val_reshape_4_loss: 4.0960e-04 - val_reshape_5_loss: 3.8940e-04 - learning_rate: 3.9063e-06\n",
      "Epoch 58/100\n",
      "\u001B[1m 9997/10000\u001B[0m \u001B[32m━━━━━━━━━━━━━━━━━━━\u001B[0m\u001B[37m━\u001B[0m \u001B[1m0s\u001B[0m 14ms/step - loss: 8.5992e-04 - reshape_4_loss: 4.0234e-04 - reshape_5_loss: 3.8131e-04\n",
      "Epoch 58: ReduceLROnPlateau reducing learning rate to 1.9531250927684596e-06.\n",
      "\u001B[1m10000/10000\u001B[0m \u001B[32m━━━━━━━━━━━━━━━━━━━━\u001B[0m\u001B[37m\u001B[0m \u001B[1m173s\u001B[0m 17ms/step - loss: 8.5992e-04 - reshape_4_loss: 4.0234e-04 - reshape_5_loss: 3.8131e-04 - val_loss: 8.7922e-04 - val_reshape_4_loss: 4.1091e-04 - val_reshape_5_loss: 3.9025e-04 - learning_rate: 3.9063e-06\n",
      "Epoch 59/100\n",
      "\u001B[1m10000/10000\u001B[0m \u001B[32m━━━━━━━━━━━━━━━━━━━━\u001B[0m\u001B[37m\u001B[0m \u001B[1m174s\u001B[0m 17ms/step - loss: 8.5963e-04 - reshape_4_loss: 4.0245e-04 - reshape_5_loss: 3.8098e-04 - val_loss: 8.8029e-04 - val_reshape_4_loss: 4.1118e-04 - val_reshape_5_loss: 3.9093e-04 - learning_rate: 1.9531e-06\n",
      "Epoch 60/100\n",
      "\u001B[1m10000/10000\u001B[0m \u001B[32m━━━━━━━━━━━━━━━━━━━━\u001B[0m\u001B[37m\u001B[0m \u001B[1m175s\u001B[0m 18ms/step - loss: 8.5891e-04 - reshape_4_loss: 4.0181e-04 - reshape_5_loss: 3.8092e-04 - val_loss: 8.7952e-04 - val_reshape_4_loss: 4.1119e-04 - val_reshape_5_loss: 3.9027e-04 - learning_rate: 1.9531e-06\n",
      "Epoch 61/100\n",
      "\u001B[1m10000/10000\u001B[0m \u001B[32m━━━━━━━━━━━━━━━━━━━━\u001B[0m\u001B[37m\u001B[0m \u001B[1m176s\u001B[0m 18ms/step - loss: 8.5748e-04 - reshape_4_loss: 4.0110e-04 - reshape_5_loss: 3.8031e-04 - val_loss: 8.8060e-04 - val_reshape_4_loss: 4.1126e-04 - val_reshape_5_loss: 3.9111e-04 - learning_rate: 1.9531e-06\n",
      "Epoch 62/100\n",
      "\u001B[1m10000/10000\u001B[0m \u001B[32m━━━━━━━━━━━━━━━━━━━━\u001B[0m\u001B[37m\u001B[0m \u001B[1m174s\u001B[0m 17ms/step - loss: 8.5919e-04 - reshape_4_loss: 4.0175e-04 - reshape_5_loss: 3.8120e-04 - val_loss: 8.8100e-04 - val_reshape_4_loss: 4.1103e-04 - val_reshape_5_loss: 3.9164e-04 - learning_rate: 1.9531e-06\n",
      "Epoch 63/100\n",
      "\u001B[1m 9997/10000\u001B[0m \u001B[32m━━━━━━━━━━━━━━━━━━━\u001B[0m\u001B[37m━\u001B[0m \u001B[1m0s\u001B[0m 14ms/step - loss: 8.5778e-04 - reshape_4_loss: 4.0141e-04 - reshape_5_loss: 3.8031e-04\n",
      "Epoch 63: ReduceLROnPlateau reducing learning rate to 9.765625463842298e-07.\n",
      "\u001B[1m10000/10000\u001B[0m \u001B[32m━━━━━━━━━━━━━━━━━━━━\u001B[0m\u001B[37m\u001B[0m \u001B[1m173s\u001B[0m 17ms/step - loss: 8.5778e-04 - reshape_4_loss: 4.0141e-04 - reshape_5_loss: 3.8031e-04 - val_loss: 8.8130e-04 - val_reshape_4_loss: 4.1173e-04 - val_reshape_5_loss: 3.9130e-04 - learning_rate: 1.9531e-06\n",
      "Epoch 64/100\n",
      "\u001B[1m10000/10000\u001B[0m \u001B[32m━━━━━━━━━━━━━━━━━━━━\u001B[0m\u001B[37m\u001B[0m \u001B[1m173s\u001B[0m 17ms/step - loss: 8.5648e-04 - reshape_4_loss: 4.0083e-04 - reshape_5_loss: 3.7970e-04 - val_loss: 8.8121e-04 - val_reshape_4_loss: 4.1157e-04 - val_reshape_5_loss: 3.9137e-04 - learning_rate: 9.7656e-07\n",
      "Epoch 65/100\n",
      "\u001B[1m10000/10000\u001B[0m \u001B[32m━━━━━━━━━━━━━━━━━━━━\u001B[0m\u001B[37m\u001B[0m \u001B[1m177s\u001B[0m 18ms/step - loss: 8.5962e-04 - reshape_4_loss: 4.0253e-04 - reshape_5_loss: 3.8091e-04 - val_loss: 8.8088e-04 - val_reshape_4_loss: 4.1144e-04 - val_reshape_5_loss: 3.9120e-04 - learning_rate: 9.7656e-07\n",
      "Epoch 66/100\n",
      "\u001B[1m10000/10000\u001B[0m \u001B[32m━━━━━━━━━━━━━━━━━━━━\u001B[0m\u001B[37m\u001B[0m \u001B[1m175s\u001B[0m 17ms/step - loss: 8.6148e-04 - reshape_4_loss: 4.0317e-04 - reshape_5_loss: 3.8192e-04 - val_loss: 8.7733e-04 - val_reshape_4_loss: 4.1036e-04 - val_reshape_5_loss: 3.8914e-04 - learning_rate: 9.7656e-07\n",
      "Epoch 67/100\n",
      "\u001B[1m10000/10000\u001B[0m \u001B[32m━━━━━━━━━━━━━━━━━━━━\u001B[0m\u001B[37m\u001B[0m \u001B[1m173s\u001B[0m 17ms/step - loss: 8.6039e-04 - reshape_4_loss: 4.0258e-04 - reshape_5_loss: 3.8150e-04 - val_loss: 8.8316e-04 - val_reshape_4_loss: 4.1254e-04 - val_reshape_5_loss: 3.9218e-04 - learning_rate: 9.7656e-07\n",
      "Epoch 67: early stopping\n",
      "Restoring model weights from the end of the best epoch: 57.\n"
     ]
    }
   ]
  },
  {
   "cell_type": "code",
   "execution_count": 24,
   "metadata": {
    "id": "8W7k_wCHYj_d"
   },
   "outputs": [],
   "source": [
    "def eval_model(model):\n",
    "    x, (y1, y2) = next(testgen)\n",
    "    pred1, pred2 = model.predict(x)\n",
    "    return (np.mean((pred1-y1)**2) + np.mean((pred2-y2)**2)) / 2"
   ]
  },
  {
   "metadata": {
    "id": "GahV5aVfgzEJ"
   },
   "cell_type": "code",
   "outputs": [],
   "execution_count": 33,
   "source": [
    "def plot_training_history(history):\n",
    "    plt.figure(figsize=(12, 4))\n",
    "    plt.subplot(1, 2, 1)\n",
    "    plt.plot(history.history['loss'], label='Training Loss')\n",
    "    plt.plot(history.history['val_loss'], label='Validation Loss')\n",
    "    plt.xlabel('Epoch')\n",
    "    plt.ylabel('Loss')\n",
    "    plt.legend()"
   ]
  },
  {
   "cell_type": "code",
   "execution_count": 40,
   "metadata": {
    "id": "k4ffEJ7PZ1Fd",
    "colab": {
     "base_uri": "https://localhost:8080/"
    },
    "outputId": "173d845f-db05-4d4e-cad7-d0c25818a2f2"
   },
   "outputs": [
    {
     "output_type": "stream",
     "name": "stdout",
     "text": [
      "mse =  0.0003995584609960019\n",
      "standard deviation =  3.394178844460743e-06\n"
     ]
    }
   ],
   "source": [
    "repeat_eval = 10\n",
    "eval_results = []\n",
    "for i in range(repeat_eval):\n",
    "    eval_results.append(eval_model(model))\n",
    "print(\"mse = \", np.mean(eval_results))\n",
    "print(\"standard deviation = \", np.std(eval_results))"
   ]
  },
  {
   "cell_type": "code",
   "source": [
    "x, (y1, y2) = next(testgen)\n",
    "pred1, pred2 = model.predict(x)\n",
    "show_images(x[0], y1[0], y2[0], \"Original images\")\n",
    "show_images(x[0], pred1[0], pred2[0], \"Predicted images\")"
   ],
   "metadata": {
    "colab": {
     "base_uri": "https://localhost:8080/",
     "height": 792
    },
    "id": "_De3wvZ9rBO9",
    "outputId": "45b64592-fad0-4103-8df8-2d407b2ba12f"
   },
   "execution_count": 41,
   "outputs": [
    {
     "output_type": "stream",
     "name": "stdout",
     "text": [
      "\u001B[1m157/157\u001B[0m \u001B[32m━━━━━━━━━━━━━━━━━━━━\u001B[0m\u001B[37m\u001B[0m \u001B[1m1s\u001B[0m 3ms/step\n"
     ]
    },
    {
     "output_type": "display_data",
     "data": {
      "text/plain": [
       "<Figure size 1200x400 with 3 Axes>"
      ],
      "image/png": "[encoded data removed]"
     },
     "metadata": {}
    },
    {
     "output_type": "display_data",
     "data": {
      "text/plain": [
       "<Figure size 1200x400 with 3 Axes>"
      ],
      "image/png": "[encoded data removed]"
     },
     "metadata": {}
    }
   ]
  },
  {
   "cell_type": "code",
   "source": [
    "plot_training_history(history)"
   ],
   "metadata": {
    "colab": {
     "base_uri": "https://localhost:8080/",
     "height": 388
    },
    "id": "-FGJQ-fzrEMH",
    "outputId": "9fc081ba-5489-468f-b6ce-0d0e4f8e01d4"
   },
   "execution_count": 42,
   "outputs": [
    {
     "output_type": "display_data",
     "data": {
      "text/plain": [
       "<Figure size 1200x400 with 1 Axes>"
      ],
      "image/png": "[encoded data removed]"
     },
     "metadata": {}
    }
   ]
  },
  {
   "cell_type": "markdown",
   "metadata": {
    "id": "wnuAA_CNWaSm"
   },
   "source": [
    "# Cosa consegnare\n",
    "\n",
    "Come di consueto, dovrete consegnare un unico notebook eseguibile su Colab. Il notebook dovrà essere adeguatamente commentato, contenere l'intero tracciato dell'addestramento, il calcolo dell'MSE nel formato specificato sopra e alcuni esempi.\n",
    "\n",
    "Buon lavoro!"
   ]
  }
 ],
 "metadata": {
  "accelerator": "GPU",
  "colab": {
   "gpuType": "L4",
   "provenance": [],
   "machine_shape": "hm"
  },
  "kernelspec": {
   "display_name": "Python 3",
   "name": "python3"
  },
  "language_info": {
   "name": "python"
  }
 },
 "nbformat": 4,
 "nbformat_minor": 0
}
